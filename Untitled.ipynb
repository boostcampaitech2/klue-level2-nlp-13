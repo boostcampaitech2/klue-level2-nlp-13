{
 "cells": [
  {
   "cell_type": "code",
   "execution_count": 21,
   "id": "03f14dd6-2cef-4e9c-a1ad-21fff5035681",
   "metadata": {},
   "outputs": [],
   "source": [
    "import pandas as pd\n",
    "import pickle"
   ]
  },
  {
   "cell_type": "code",
   "execution_count": 175,
   "id": "6292ff56-16e2-4b8b-8ecf-c687e675c500",
   "metadata": {},
   "outputs": [],
   "source": [
    "# 기본\n",
    "submission = pd.read_csv(\"./prediction/sample_submission.csv\")\n",
    "\n",
    "# 나\n",
    "submission_0 = pd.read_csv(\"./prediction/submission_siaun.csv\")\n",
    "submission_1 = pd.read_csv(\"./prediction/submission_siaun_105.csv\") # 28500 \n",
    "submission_2 = pd.read_csv(\"./prediction/submission_siaun_6000.csv\")\n",
    "submission_3 = pd.read_csv(\"./prediction/submission_siaun_29000.csv\")\n",
    "submission_4 = pd.read_csv(\"./prediction/submission_siaun_29500.csv\")\n",
    "submission_5 = pd.read_csv(\"./prediction/submission_siaun_30000.csv\")\n",
    "\n",
    "# 효석님\n",
    "submission_6 = pd.read_csv(\"./prediction/output.csv\")\n",
    "submission_7 = pd.read_csv(\"./prediction/output (1).csv\")\n",
    "\n",
    "# 강민님\n",
    "submission_8 = pd.read_csv(\"./prediction/R-BERT-Gangmin2.csv\")\n",
    "submission_9 = pd.read_csv(\"./prediction/R-BERT-Gangmin2 (1).csv\")\n",
    "\n",
    "# 앙상블\n",
    "submission_e_0 = pd.read_csv(\"./prediction/submission_ensemble_init.csv\")\n",
    "submission_e_1 = pd.read_csv(\"./prediction/submission_ensemble.csv\")\n",
    "submission_e_2 = pd.read_csv(\"./prediction/submission_ensemble_add_1.csv\")\n",
    "submission_e_3 = pd.read_csv(\"./prediction/submission_ensemble_add_3.csv\")\n",
    "\n",
    "sub_f_0 = pd.read_csv('./prediction/submission_ensemble_final_0.csv')\n",
    "sub_f_1 = pd.read_csv('./prediction/submission_ensemble_final_1.csv')\n",
    "sub_f_2 = pd.read_csv('./prediction/submission_ensemble_final_2.csv')\n",
    "sub_f_3 = pd.read_csv('./prediction/submission_ensemble_final_3.csv')"
   ]
  },
  {
   "cell_type": "code",
   "execution_count": 176,
   "id": "8db05a31-5d73-4919-823e-d2cbd6ccc7ec",
   "metadata": {},
   "outputs": [],
   "source": [
    "submission_0['probs'] = submission_0['probs'].apply(lambda x: eval(x))\n",
    "submission_1['probs'] = submission_1['probs'].apply(lambda x: eval(x))\n",
    "submission_2['probs'] = submission_2['probs'].apply(lambda x: eval(x))\n",
    "submission_3['probs'] = submission_3['probs'].apply(lambda x: eval(x))\n",
    "submission_4['probs'] = submission_4['probs'].apply(lambda x: eval(x))\n",
    "submission_5['probs'] = submission_5['probs'].apply(lambda x: eval(x))\n",
    "submission_6['probs'] = submission_6['probs'].apply(lambda x: eval(x))\n",
    "submission_7['probs'] = submission_7['probs'].apply(lambda x: eval(x))\n",
    "submission_8['probs'] = submission_8['probs'].apply(lambda x: eval(x))\n",
    "submission_9['probs'] = submission_9['probs'].apply(lambda x: eval(x))\n",
    "\n",
    "submission_e_0['probs'] = submission_e_0['probs'].apply(lambda x: eval(x))\n",
    "submission_e_1['probs'] = submission_e_1['probs'].apply(lambda x: eval(x))\n",
    "submission_e_2['probs'] = submission_e_2['probs'].apply(lambda x: eval(x))\n",
    "submission_e_3['probs'] = submission_e_3['probs'].apply(lambda x: eval(x))\n",
    "\n",
    "sub_f_0['probs'] = sub_f_0['probs'].apply(lambda x: eval(x))\n",
    "sub_f_1['probs'] = sub_f_1['probs'].apply(lambda x: eval(x))\n",
    "sub_f_2['probs'] = sub_f_2['probs'].apply(lambda x: eval(x))\n",
    "sub_f_3['probs'] = sub_f_3['probs'].apply(lambda x: eval(x))"
   ]
  },
  {
   "cell_type": "code",
   "execution_count": 138,
   "id": "39954b8e-ba3d-4302-99a1-2aff724feb2a",
   "metadata": {},
   "outputs": [],
   "source": [
    "# temp = []\n",
    "# for i in zip(submission_a['probs'].iloc[2],submission_b['probs'].iloc[2],submission_c['probs'].iloc[2]):\n",
    "#     temp.append(sum(i)/3)\n",
    "# temp"
   ]
  },
  {
   "cell_type": "code",
   "execution_count": 177,
   "id": "88821e9f-f3d1-4018-9f30-8c76746915c5",
   "metadata": {},
   "outputs": [
    {
     "name": "stderr",
     "output_type": "stream",
     "text": [
      "/opt/conda/lib/python3.8/site-packages/pandas/core/indexing.py:670: SettingWithCopyWarning: \n",
      "A value is trying to be set on a copy of a slice from a DataFrame\n",
      "\n",
      "See the caveats in the documentation: https://pandas.pydata.org/pandas-docs/stable/user_guide/indexing.html#returning-a-view-versus-a-copy\n",
      "  iloc._setitem_with_indexer(indexer, value)\n"
     ]
    }
   ],
   "source": [
    "for i in range(len(submission)):\n",
    "    temp = []\n",
    "    probs = zip(\n",
    "                # submission_e_0['probs'].iloc[i],\n",
    "                # submission_e_1['probs'].iloc[i],\n",
    "                # submission_e_2['probs'].iloc[i],\n",
    "                # submission_e_3['probs'].iloc[i],\n",
    "                # submission_5['probs'].iloc[i]\n",
    "        \n",
    "                submission_e_0['probs'].iloc[i],\n",
    "                submission_e_1['probs'].iloc[i],\n",
    "                submission_e_2['probs'].iloc[i],\n",
    "                submission_e_3['probs'].iloc[i],\n",
    "                submission_8['probs'].iloc[i],\n",
    "                submission_0['probs'].iloc[i],\n",
    "                submission_1['probs'].iloc[i],\n",
    "                submission_2['probs'].iloc[i],\n",
    "                submission_6['probs'].iloc[i],\n",
    "                submission_9['probs'].iloc[i]\n",
    "        \n",
    "                # submission_e_0['probs'].iloc[i],\n",
    "                # submission_e_1['probs'].iloc[i],\n",
    "                # submission_e_2['probs'].iloc[i],\n",
    "                # submission_e_3['probs'].iloc[i],\n",
    "                # submission_8['probs'].iloc[i],\n",
    "                # submission_0['probs'].iloc[i],\n",
    "                # submission_1['probs'].iloc[i],\n",
    "                # submission_2['probs'].iloc[i],\n",
    "                # submission_6['probs'].iloc[i],\n",
    "                # sub_f_0['probs'].iloc[i],\n",
    "                # sub_f_1['probs'].iloc[i]\n",
    "        \n",
    "                # sub_f_1['probs'].iloc[i],\n",
    "                # sub_f_2['probs'].iloc[i],\n",
    "                # sub_f_3['probs'].iloc[i],\n",
    "                \n",
    "                # submission_0['probs'].iloc[i],\n",
    "                # submission_1['probs'].iloc[i],\n",
    "                # submission_2['probs'].iloc[i],\n",
    "                # submission_6['probs'].iloc[i],\n",
    "                # submission_8['probs'].iloc[i]\n",
    "               )\n",
    "    for prob in probs:\n",
    "        temp.append(sum(prob)/10)\n",
    "    submission['probs'].iloc[i] = temp\n",
    "    submission['pred_label'].iloc[i] = temp.index(max(temp))\n",
    "    "
   ]
  },
  {
   "cell_type": "code",
   "execution_count": 162,
   "id": "4eff3b77-5a7d-41d8-9bba-7782329fb3c5",
   "metadata": {},
   "outputs": [],
   "source": [
    "# submission"
   ]
  },
  {
   "cell_type": "code",
   "execution_count": 178,
   "id": "15548010-a265-486b-869d-567f3df13e66",
   "metadata": {},
   "outputs": [],
   "source": [
    "def num_to_label(label):\n",
    "    \"\"\"\n",
    "        숫자로 되어 있던 class를 원본 문자열 라벨로 변환 합니다.\n",
    "    \"\"\"\n",
    "    origin_label = []\n",
    "    with open('dict_num_to_label.pkl', 'rb') as f:\n",
    "        dict_num_to_label = pickle.load(f)\n",
    "    for v in label:\n",
    "        origin_label.append(dict_num_to_label[v])\n",
    "    \n",
    "    return origin_label"
   ]
  },
  {
   "cell_type": "code",
   "execution_count": 179,
   "id": "93b2759b-a9d5-4f07-aeba-03778ad5c233",
   "metadata": {},
   "outputs": [],
   "source": [
    "submission['pred_label'] = num_to_label(submission['pred_label'])"
   ]
  },
  {
   "cell_type": "code",
   "execution_count": 180,
   "id": "56296639-e030-4b5a-95d1-35bb60cd907d",
   "metadata": {},
   "outputs": [],
   "source": [
    "submission.to_csv(\"./prediction/submission_ensemble_final_5.csv\",index=False)"
   ]
  },
  {
   "cell_type": "code",
   "execution_count": 128,
   "id": "3a2b5683-addc-486a-bd13-ff3b9c4f750c",
   "metadata": {},
   "outputs": [
    {
     "name": "stdout",
     "output_type": "stream",
     "text": [
      "0                     org:members\n",
      "1                       per:title\n",
      "2                     no_relation\n",
      "3                  per:colleagues\n",
      "4                     no_relation\n",
      "                  ...            \n",
      "7762    org:place_of_headquarters\n",
      "7763                  no_relation\n",
      "7764    org:top_members/employees\n",
      "7765                  no_relation\n",
      "7766                  no_relation\n",
      "Name: label_x, Length: 7767, dtype: object\n"
     ]
    },
    {
     "data": {
      "text/plain": [
       "0                     org:members\n",
       "1                       per:title\n",
       "2                     no_relation\n",
       "3                  per:colleagues\n",
       "4                     no_relation\n",
       "                  ...            \n",
       "7760       per:place_of_residence\n",
       "7761              per:employee_of\n",
       "7762    org:place_of_headquarters\n",
       "7763                  no_relation\n",
       "7764    org:top_members/employees\n",
       "Name: label_x, Length: 7765, dtype: object"
      ]
     },
     "execution_count": 128,
     "metadata": {},
     "output_type": "execute_result"
    }
   ],
   "source": [
    "answer = pd.read_csv(\"./prediction/ans (1).csv\")\n",
    "\n",
    "label_x = answer.label_x[:-2]\n",
    "label_x"
   ]
  },
  {
   "cell_type": "code",
   "execution_count": 171,
   "id": "a7313f79-f643-4e32-b020-0d32e4b65a00",
   "metadata": {},
   "outputs": [
    {
     "data": {
      "text/plain": [
       "0        2\n",
       "1        4\n",
       "2        0\n",
       "3       14\n",
       "4        0\n",
       "        ..\n",
       "7760    11\n",
       "7761     6\n",
       "7762     7\n",
       "7763     0\n",
       "7764     1\n",
       "Name: label_x, Length: 7765, dtype: int64"
      ]
     },
     "execution_count": 171,
     "metadata": {},
     "output_type": "execute_result"
    }
   ],
   "source": [
    "with open(\"/opt/ml/code/dict_label_to_num.pkl\" , \"rb\") as f:\n",
    "    label_to_num = pickle.load(f)\n",
    "\n",
    "label_x_final = label_x.map(label_to_num)\n",
    "\n",
    "label_x_final\n"
   ]
  },
  {
   "cell_type": "code",
   "execution_count": 181,
   "id": "ac9c614a-fa3c-4c36-90d8-da110dc5d931",
   "metadata": {},
   "outputs": [],
   "source": [
    "sub_f_0 = pd.read_csv('./prediction/submission_ensemble_final_0.csv')\n",
    "sub_f_1 = pd.read_csv('./prediction/submission_ensemble_final_1.csv')\n",
    "\n",
    "sub_f_2 = pd.read_csv('./prediction/submission_ensemble_final_2.csv')\n",
    "sub_f_3 = pd.read_csv('./prediction/submission_ensemble_final_3.csv')\n",
    "\n",
    "sub_f_4 = pd.read_csv('./prediction/submission_ensemble_final_4.csv')\n",
    "\n",
    "sub_f_5 = pd.read_csv('./prediction/submission_ensemble_final_5.csv')\n",
    "\n"
   ]
  },
  {
   "cell_type": "code",
   "execution_count": 182,
   "id": "8af26bb6-1934-4f99-994f-330060c0b65c",
   "metadata": {},
   "outputs": [],
   "source": [
    "f_0 = sub_f_0.pred_label\n",
    "f_1 = sub_f_1.pred_label\n",
    "final_0 = f_0.map(label_to_num)\n",
    "final_1 = f_1.map(label_to_num)\n",
    "\n",
    "\n",
    "f_2 = sub_f_2.pred_label\n",
    "f_3 = sub_f_3.pred_label\n",
    "final_2 = f_2.map(label_to_num)\n",
    "final_3 = f_3.map(label_to_num)\n",
    "\n",
    "f_4 = sub_f_4.pred_label\n",
    "final_4 = f_4.map(label_to_num)\n",
    "\n",
    "f_5 = sub_f_5.pred_label\n",
    "final_5 = f_5.map(label_to_num)\n"
   ]
  },
  {
   "cell_type": "code",
   "execution_count": 134,
   "id": "da38589c-6940-485d-bd0b-dfae1e89d0f2",
   "metadata": {},
   "outputs": [
    {
     "data": {
      "text/plain": [
       "0.7397295556986477"
      ]
     },
     "execution_count": 134,
     "metadata": {},
     "output_type": "execute_result"
    }
   ],
   "source": [
    "from sklearn.metrics import f1_score\n",
    "f1_score(label_x_final,final_0,average='micro')"
   ]
  },
  {
   "cell_type": "code",
   "execution_count": 135,
   "id": "4903f633-4b81-4180-9ef8-39261d5743ed",
   "metadata": {},
   "outputs": [
    {
     "data": {
      "text/plain": [
       "0.7486155827430779"
      ]
     },
     "execution_count": 135,
     "metadata": {},
     "output_type": "execute_result"
    }
   ],
   "source": [
    "f1_score(label_x_final,final_1,average='micro')"
   ]
  },
  {
   "cell_type": "code",
   "execution_count": 154,
   "id": "811de557-baa7-45b6-b964-d21c9b3e990a",
   "metadata": {},
   "outputs": [
    {
     "data": {
      "text/plain": [
       "0.748486799742434"
      ]
     },
     "execution_count": 154,
     "metadata": {},
     "output_type": "execute_result"
    }
   ],
   "source": [
    "f1_score(label_x_final,final_2,average='micro')"
   ]
  },
  {
   "cell_type": "code",
   "execution_count": 155,
   "id": "a97fdc12-42cf-4657-a304-a08e4a204e00",
   "metadata": {},
   "outputs": [
    {
     "data": {
      "text/plain": [
       "0.7473277527366388"
      ]
     },
     "execution_count": 155,
     "metadata": {},
     "output_type": "execute_result"
    }
   ],
   "source": [
    "f1_score(label_x_final,final_3,average='micro')"
   ]
  },
  {
   "cell_type": "code",
   "execution_count": 168,
   "id": "cefde49b-7f1a-4501-ba02-235b9833d5b4",
   "metadata": {},
   "outputs": [
    {
     "data": {
      "text/plain": [
       "0.7482292337411461"
      ]
     },
     "execution_count": 168,
     "metadata": {},
     "output_type": "execute_result"
    }
   ],
   "source": [
    "f1_score(label_x_final,final_4,average='micro')"
   ]
  },
  {
   "cell_type": "code",
   "execution_count": 183,
   "id": "d9e2437a-dc7a-4f79-802c-9eaac96c9e03",
   "metadata": {},
   "outputs": [
    {
     "data": {
      "text/plain": [
       "0.7488731487443657"
      ]
     },
     "execution_count": 183,
     "metadata": {},
     "output_type": "execute_result"
    }
   ],
   "source": [
    "f1_score(label_x_final,final_5,average='micro')"
   ]
  },
  {
   "cell_type": "code",
   "execution_count": 173,
   "id": "d4a18d51-73ca-45d7-bf59-1c89c0f46f82",
   "metadata": {},
   "outputs": [
    {
     "data": {
      "text/plain": [
       "0.6744365743721829"
      ]
     },
     "execution_count": 173,
     "metadata": {},
     "output_type": "execute_result"
    }
   ],
   "source": [
    "gm = submission_9.pred_label\n",
    "gm = gm.map(label_to_num)\n",
    "\n",
    "f1_score(label_x_final,gm,average='micro')"
   ]
  },
  {
   "cell_type": "code",
   "execution_count": null,
   "id": "2260b338-c9f4-44b9-a994-0fa6fad32e07",
   "metadata": {},
   "outputs": [],
   "source": []
  }
 ],
 "metadata": {
  "kernelspec": {
   "display_name": "Python 3 (ipykernel)",
   "language": "python",
   "name": "python3"
  },
  "language_info": {
   "codemirror_mode": {
    "name": "ipython",
    "version": 3
   },
   "file_extension": ".py",
   "mimetype": "text/x-python",
   "name": "python",
   "nbconvert_exporter": "python",
   "pygments_lexer": "ipython3",
   "version": "3.8.5"
  }
 },
 "nbformat": 4,
 "nbformat_minor": 5
}
