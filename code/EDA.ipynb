{
 "cells": [
  {
   "cell_type": "code",
   "execution_count": 96,
   "source": [
    "import pandas as pd\n",
    "import numpy as np\n",
    "\n",
    "import pickle\n",
    "\n",
    "from koeda import EDA"
   ],
   "outputs": [],
   "metadata": {}
  },
  {
   "cell_type": "code",
   "execution_count": null,
   "source": [
    "with open('./code/dict_num_to_label.pkl', 'rb') as f:\n",
    "    label_type = pickle.load(f)\n",
    "\n",
    "print(label_type)\n"
   ],
   "outputs": [],
   "metadata": {}
  },
  {
   "cell_type": "code",
   "execution_count": 66,
   "source": [
    "train_data = pd.read_csv('./dataset/train/train.csv')"
   ],
   "outputs": [],
   "metadata": {}
  },
  {
   "cell_type": "code",
   "execution_count": 67,
   "source": [
    "train_data.describe(include='all')\n",
    "#문장 중 3,667개 중복 => 동일한 데이터를 늘리는데 사용함.\n",
    "#subject 6,130개 중복\n",
    "#object 6,766개 중복 \n"
   ],
   "outputs": [
    {
     "output_type": "execute_result",
     "data": {
      "text/html": [
       "<div>\n",
       "<style scoped>\n",
       "    .dataframe tbody tr th:only-of-type {\n",
       "        vertical-align: middle;\n",
       "    }\n",
       "\n",
       "    .dataframe tbody tr th {\n",
       "        vertical-align: top;\n",
       "    }\n",
       "\n",
       "    .dataframe thead th {\n",
       "        text-align: right;\n",
       "    }\n",
       "</style>\n",
       "<table border=\"1\" class=\"dataframe\">\n",
       "  <thead>\n",
       "    <tr style=\"text-align: right;\">\n",
       "      <th></th>\n",
       "      <th>id</th>\n",
       "      <th>sentence</th>\n",
       "      <th>subject_entity</th>\n",
       "      <th>object_entity</th>\n",
       "      <th>label</th>\n",
       "      <th>source</th>\n",
       "    </tr>\n",
       "  </thead>\n",
       "  <tbody>\n",
       "    <tr>\n",
       "      <th>count</th>\n",
       "      <td>32470.000000</td>\n",
       "      <td>32470</td>\n",
       "      <td>32470</td>\n",
       "      <td>32470</td>\n",
       "      <td>32470</td>\n",
       "      <td>32470</td>\n",
       "    </tr>\n",
       "    <tr>\n",
       "      <th>unique</th>\n",
       "      <td>NaN</td>\n",
       "      <td>28803</td>\n",
       "      <td>26340</td>\n",
       "      <td>25704</td>\n",
       "      <td>30</td>\n",
       "      <td>3</td>\n",
       "    </tr>\n",
       "    <tr>\n",
       "      <th>top</th>\n",
       "      <td>NaN</td>\n",
       "      <td>도쿠가와 이에야스와 도쿠가와 히데타다가 20년에 걸쳐 안정시킨 막부를 이어받은 3대...</td>\n",
       "      <td>{'word': '화순군', 'start_idx': 0, 'end_idx': 2, ...</td>\n",
       "      <td>{'word': '구충곤', 'start_idx': 7, 'end_idx': 9, ...</td>\n",
       "      <td>no_relation</td>\n",
       "      <td>wikipedia</td>\n",
       "    </tr>\n",
       "    <tr>\n",
       "      <th>freq</th>\n",
       "      <td>NaN</td>\n",
       "      <td>3</td>\n",
       "      <td>98</td>\n",
       "      <td>94</td>\n",
       "      <td>9534</td>\n",
       "      <td>21620</td>\n",
       "    </tr>\n",
       "    <tr>\n",
       "      <th>mean</th>\n",
       "      <td>16234.500000</td>\n",
       "      <td>NaN</td>\n",
       "      <td>NaN</td>\n",
       "      <td>NaN</td>\n",
       "      <td>NaN</td>\n",
       "      <td>NaN</td>\n",
       "    </tr>\n",
       "    <tr>\n",
       "      <th>std</th>\n",
       "      <td>9373.425957</td>\n",
       "      <td>NaN</td>\n",
       "      <td>NaN</td>\n",
       "      <td>NaN</td>\n",
       "      <td>NaN</td>\n",
       "      <td>NaN</td>\n",
       "    </tr>\n",
       "    <tr>\n",
       "      <th>min</th>\n",
       "      <td>0.000000</td>\n",
       "      <td>NaN</td>\n",
       "      <td>NaN</td>\n",
       "      <td>NaN</td>\n",
       "      <td>NaN</td>\n",
       "      <td>NaN</td>\n",
       "    </tr>\n",
       "    <tr>\n",
       "      <th>25%</th>\n",
       "      <td>8117.250000</td>\n",
       "      <td>NaN</td>\n",
       "      <td>NaN</td>\n",
       "      <td>NaN</td>\n",
       "      <td>NaN</td>\n",
       "      <td>NaN</td>\n",
       "    </tr>\n",
       "    <tr>\n",
       "      <th>50%</th>\n",
       "      <td>16234.500000</td>\n",
       "      <td>NaN</td>\n",
       "      <td>NaN</td>\n",
       "      <td>NaN</td>\n",
       "      <td>NaN</td>\n",
       "      <td>NaN</td>\n",
       "    </tr>\n",
       "    <tr>\n",
       "      <th>75%</th>\n",
       "      <td>24351.750000</td>\n",
       "      <td>NaN</td>\n",
       "      <td>NaN</td>\n",
       "      <td>NaN</td>\n",
       "      <td>NaN</td>\n",
       "      <td>NaN</td>\n",
       "    </tr>\n",
       "    <tr>\n",
       "      <th>max</th>\n",
       "      <td>32469.000000</td>\n",
       "      <td>NaN</td>\n",
       "      <td>NaN</td>\n",
       "      <td>NaN</td>\n",
       "      <td>NaN</td>\n",
       "      <td>NaN</td>\n",
       "    </tr>\n",
       "  </tbody>\n",
       "</table>\n",
       "</div>"
      ],
      "text/plain": [
       "                  id                                           sentence  \\\n",
       "count   32470.000000                                              32470   \n",
       "unique           NaN                                              28803   \n",
       "top              NaN  도쿠가와 이에야스와 도쿠가와 히데타다가 20년에 걸쳐 안정시킨 막부를 이어받은 3대...   \n",
       "freq             NaN                                                  3   \n",
       "mean    16234.500000                                                NaN   \n",
       "std      9373.425957                                                NaN   \n",
       "min         0.000000                                                NaN   \n",
       "25%      8117.250000                                                NaN   \n",
       "50%     16234.500000                                                NaN   \n",
       "75%     24351.750000                                                NaN   \n",
       "max     32469.000000                                                NaN   \n",
       "\n",
       "                                           subject_entity  \\\n",
       "count                                               32470   \n",
       "unique                                              26340   \n",
       "top     {'word': '화순군', 'start_idx': 0, 'end_idx': 2, ...   \n",
       "freq                                                   98   \n",
       "mean                                                  NaN   \n",
       "std                                                   NaN   \n",
       "min                                                   NaN   \n",
       "25%                                                   NaN   \n",
       "50%                                                   NaN   \n",
       "75%                                                   NaN   \n",
       "max                                                   NaN   \n",
       "\n",
       "                                            object_entity        label  \\\n",
       "count                                               32470        32470   \n",
       "unique                                              25704           30   \n",
       "top     {'word': '구충곤', 'start_idx': 7, 'end_idx': 9, ...  no_relation   \n",
       "freq                                                   94         9534   \n",
       "mean                                                  NaN          NaN   \n",
       "std                                                   NaN          NaN   \n",
       "min                                                   NaN          NaN   \n",
       "25%                                                   NaN          NaN   \n",
       "50%                                                   NaN          NaN   \n",
       "75%                                                   NaN          NaN   \n",
       "max                                                   NaN          NaN   \n",
       "\n",
       "           source  \n",
       "count       32470  \n",
       "unique          3  \n",
       "top     wikipedia  \n",
       "freq        21620  \n",
       "mean          NaN  \n",
       "std           NaN  \n",
       "min           NaN  \n",
       "25%           NaN  \n",
       "50%           NaN  \n",
       "75%           NaN  \n",
       "max           NaN  "
      ]
     },
     "metadata": {},
     "execution_count": 67
    }
   ],
   "metadata": {}
  },
  {
   "cell_type": "code",
   "execution_count": 56,
   "source": [
    "num_of_label = {}\n",
    "for i in range(len(label_type)):\n",
    "    num_of_label[i] = len(train_data[train_data.label == label_type[i]])"
   ],
   "outputs": [],
   "metadata": {}
  },
  {
   "cell_type": "code",
   "execution_count": 60,
   "source": [
    "#각 레이블 별 갯수\n",
    "print(num_of_label)"
   ],
   "outputs": [
    {
     "output_type": "stream",
     "name": "stdout",
     "text": [
      "{0: 9534, 1: 4284, 2: 420, 3: 380, 4: 2103, 5: 1320, 6: 3573, 7: 1195, 8: 139, 9: 48, 10: 304, 11: 193, 12: 1001, 13: 190, 14: 534, 15: 1234, 16: 136, 17: 795, 18: 450, 19: 98, 20: 1866, 21: 520, 22: 66, 23: 82, 24: 418, 25: 1130, 26: 166, 27: 40, 28: 155, 29: 96}\n"
     ]
    }
   ],
   "metadata": {}
  },
  {
   "cell_type": "code",
   "execution_count": 132,
   "source": [
    "from IPython.core.display import HTML\n",
    "\n",
    "def word_highlight_html(txt,word, color='blue', highlight=None, attr=None):\n",
    "    if isinstance(word,str):\n",
    "        txt = txt.replace(word, f'<span style=\"color:{color}; background-color:{highlight}\">{word}</span>')\n",
    "    else:\n",
    "        if not isinstance(color,list):\n",
    "            color = [color]*len(word)\n",
    "        if not isinstance(highlight,list):\n",
    "            highlight = [highlight]*len(word)\n",
    "        for w,c,h in zip(word,color,highlight):\n",
    "            txt = txt.replace(w,f'<span style=\"color:{c};background-color:{h}\">{w}</span>')\n",
    "    return txt"
   ],
   "outputs": [],
   "metadata": {}
  },
  {
   "cell_type": "code",
   "execution_count": 141,
   "source": [
    "train_data = pd.read_csv('./dataset/train/train.csv')\n",
    "\n",
    "import re\n",
    "txt = ''\n",
    "count = 1\n",
    "label = \"per:place_of_death\"\n",
    "label_df = train_data[train_data['label']==label]\n",
    "for idx, row in label_df.iterrows():\n",
    "    sent = row['sentence']\n",
    "    subj = re.sub(\"'\", '', row['subject_entity'].strip())\n",
    "    obj = re.sub(\"'\", '', row['object_entity'].strip())\n",
    "    txt += word_highlight_html(sent, [subj, obj], ['blue', 'red'],  ['#96C4ED', '#B19CD9']) + '<br/><br/>'\n",
    "    if count > 100:\n",
    "        break\n",
    "    count += 1\n",
    "HTML(txt)"
   ],
   "outputs": [
    {
     "output_type": "execute_result",
     "data": {
      "text/html": [
       "2010년 3월 29일, 최진영은 서울특별시 강남구 논현동의 자택에서 스스로 세상을 떠났다.<br/><br/>막시밀리아노 1세(Maximiliano I, 1832년 7월 6일 오스트리아 빈 ~ 1867년 6월 19일 멕시코 케레타로 근처)는 오스트리아의 대공이자 멕시코 제국의 황제이다.<br/><br/>을미사변 때 훈련대 병력을 동원하여 명성황후를 시해하는 데 동참했던 당시 조선훈련대 제2대대장 우범선(禹範善)은 이후 일본에 망명하였는데, 그 후 고영근은 1898년 일본으로 건너가 우연찮게도 대한제국 조선인 망명객 출신인 윤효정과 만나 명성황후 암살 사건 관련 담화 등을 밀담하였고 결국 1903년 11월 24일 일본 히로시마현 구레에 소재했던 자신의 객저(집)로 우범선을 초대한 후 칼로 목과 턱을 찔러 우범선을 살해하였다.<br/><br/>마리 드 메디시스 왕비는 1630년 그녀의 아들이었던 루이 13세에 의해 추방당하게 되며 1642년 루벤스가 유년시절을 보냈던 쾰른의 바로 그 집에서 죽었다.<br/><br/>1921년 6월 자유시참변(自由市慘變) 발생 후 상해파 고려공산당의 간부들이 거의 러시아로 이동하여 이르쿠츠크집단과의 군권투쟁을 벌이고 있을 때, 운송책의 한 사람이었던 김립은 혼자서 상해본부를 지키고 있었으며, 1921년 말 임시정부에서 보낸 김구의 부하인 오면직, 노종균 등 청년들이 김립을 찾아 1922년 2월 11일 상하이 불조계의 자베이(閘北) 거리에서 암살당했다.<br/><br/>병을 얻은 트라야누스는 하드리아누스를 대신 파르티아 원정군의 사령관으로 임명하고 로마로 돌아가지만, 도중에 킬리키아 지방의 세리누스에서 사망하고 만다.<br/><br/>김창완과 그의 두 형제들로 구성되었던 그룹 산울림의 멤버이자 3형제 중 막내였던 김창익이 2008년 1월 캐나다 벤쿠버에서 제설작업 도중 사고로 사망하게 되었고, 같은 해 김창완은 산울림의 공식활동 중단소식과 아울러 젊은 연주자 4명과 함께 팀을 꾸려 음악활동을 시작하겠다는 소식을 전했다.<br/><br/>루이스 몰로니 아르벨로(; 1925년 5월 12일, 카나리아 제도 산타 크루스 데 테네리페 ~ 2010년 2월 12일, 카나리아 제도 라스 팔마스)는 스페인의 전 축구 미드필더이자 감독이다.<br/><br/>고용희는 2004년 8월 13일 프랑스 파리에서 치료 중, 심장마비, 암으로 사망했다는 이야기가 있으나, 그로부터 3개월 전인 5월경에 이미 숨졌을 가능성도 있다.<br/><br/>2010년 폴란드 공군 Tu-154 추락사고는 2010년 4월 10일, 폴란드의 레흐 카친스키 대통령 등이 탑승한 폴란드 공군 소속 투폴레프 Tu-154M가 러시아 스몰렌스크 인근에서 추락하여 탑승자 전원이 사망한 사건이다.<br/><br/>연회 중에 박정희는 김재규의 총에 가슴과 머리를 맞았고 곧 국군 서울 지구 병원으로 이송되었으나 이송 중 세상을 떠났다.<br/><br/>선의왕후 어씨는 본관이 함종(咸從)으로 영조 6년(1730) 6월 29일 경희궁 어조당(魚藻堂)에서 소생없이 승하하니 춘추 26세였고, 시호를 선의(宣懿), 무덤의 이름을 의릉이라 하여 10월에 천장산 경종릉 아래에 장례를 지냈다.<br/><br/>알폰소 10세 데 카스티야(1221년 11월 23일 톨레도 ~ 1284년 4월 4일 세비야)는 부르고뉴 왕가에 속하는 인물로, 카스티야 왕국과 레온 왕국의 왕이었으며, 일시적으로 독일의 왕(신성로마제국 황제)이었던 인물이다.<br/><br/>루돌프 1세는 1291년 7월 15일 슈파이어에서 죽었다.<br/><br/>피천득 선생은 2007년 5월 25일 서울에서 노환으로 별세하였다.<br/><br/>미셸 드브레는 1912년 1월 15일 파리 7구에서 태어나 1996년 8월 2일 몽루이쉬르루아르에서 사망한 프랑스의 정치인이다.<br/><br/>2014년 8월 11일(현지시간) 미국 샌프란시스코의 마린 카운티 경찰국에 따르면, 로빈 윌리엄스는 이날 캘리포니아 티뷰론(Tiburon, California)에 위치한 그의 자택에서 목을 매 숨진 채 발견됐다.<br/><br/>메이레키(明暦) 3년(1657년) 10월 26일에 에도에서 향년 54세로 사망했다. 가독은 장남 요시자네(義真)가 이었다.<br/><br/>그러나 이스마일 2세는 , 카즈빈의 궁성에서 아편 중독으로 사망하였다.<br/><br/>또한 그가 취임한 그 해에 바티칸 교황 요한 바오로 1세가 취임 33일만에 갑작스레 사망하였는데 이에 타살 의혹이 들면서 다시 한번 화제가 되기도 했다.<br/><br/>그러나 서재필은 휴전을 못보고 한국 전쟁이 한창이던 1951년 1월 5일 펜실베이니아주 필라델피아 노리스타운 몽고메리 병원 병실에서 후두암과 방광암, 과로의 합병증으로 일생을 마쳤다.<br/><br/>손원일(1909년 6월 22일(1909년 음력 5월 5일)(1909년 음력 5월 5일) 대한제국 평안남도 강서 출생 ~ 1980년 2월 15일 대한민국 서울에서 별세.)은 대한민국 제5대 국방부 장관, 초대 서독 주재 대한민국 대사 등을 지낸 대한민국 독립운동가 및 예비역 대한민국 해군 중장 출신이자, 군인, 정치가, 외교관, 관료이다.<br/><br/>헤디 라마르는 2000년 1월 19일 플로리다주의 카셀베리에서 심장병으로 85세에 사망했다.<br/><br/>“아스타 시엠프레, 코만단테”(Hasta Siempre- Comandante)는 1965년 쿠바의 작곡가 카를로스 푸에블라가 1965년 작곡한 스페인어 노래로, 혁명가 체 게바라가 콩고와 그 뒤 자신이 죽게 된 볼리비아로 투쟁무대를 옮기기 위해 쿠바를 떠나면서 남긴 이별의 편지에 대한 응답조의 내용이다.<br/><br/>에드워드 \"테드\" 손다이크 (Edward Lee \"Ted\" Thorndike, 1874년 8월 31일 미국 매사추세츠주 윌리암스버그 출생 ~ 1949년 8월 9일 미국 뉴욕주 몬트로즈에서 사망)는 전체 경력의 대부분을 컬럼비아 대학교에서 지녔던, 미국의 심리학자이다.<br/><br/>박시창(대한제국 경기도 시흥 출생 ~ 대한민국 서울에서 별세.)은 대한민국의 독립운동가 겸 군인이자 예비역 대한민국 육군 소장 출신이며 사회운동가 겸 사회기관단체장이었다.<br/><br/>1932년 1월 24일 워버그는 63세의 나이로 뉴욕의 저택에서 사망하여 뉴욕주 슬리피홀로에 있는 슬리피홀로 공동묘지에 안장되었다.<br/><br/>플로리야나 이스마일리는 2019년 6월 29일에 이탈리아 롬바르디아주 코모호에서 보트를 타고 가던 도중에 뛰어내리면서 실종되었다.<br/><br/>리승엽(1905년 2월 8일 대한제국 경기도 부평 출생 ~ 1954년 7월 30일 조선민주주의인민공화국 평양에서 사형 집행.)은 일제 강점기의 친일 공산주의 운동가이며 조선민주주의인민공화국의 정치가이다.<br/><br/>훌라구는 계속하여 팔레스타인을 정복하여 카이로로 향하려고 하였으나, 1259년 8월 11일에 대칸 뭉케가 중국에서 사망했다는 소식을 들은 훌레구는 당시 알레포를 포위하고 있었다.<br/><br/>터르노보 근교의 사냥 도중 칼리만 아센은 미하일 아센 1세를 살해하고 왕위를 찬탈하였다.<br/><br/>1947년 7월 여운형이 서울에서 암살된 이후 그는 근로인민당을 이끌었으며 1948년 4월의 남북협상에 참가하였다.<br/><br/>2009년 김정일의 넷째 아내인 김옥이 김정일의 셋째 아내인 고용희가 타고 있던 자동차 브레이크를 조작해서 고용희를 암살하려는 음모를 꾸몄으며 이를 실토한 사실이 김옥의 측근의 증언을 통해 알려졌다. 고용희는 2004년 교통사고를 당했으며, 2004년 5월 26일 프랑스 한 병원에서 유방암으로 세상을 떠난 후 6월초 북한에서 장례식을 치렀다.<br/><br/>기원전 42년 10월 마케도니아의 필리피에서 두 번의 전투를 치르고 난 뒤, 로마군은 승리하고 브루투스와 카시우스는 자살하였다.<br/><br/>1100년 예루살렘을 함락한 후 왕이 되지 않고 그저 지배자가 된 성묘의 수호자이던 보두앵의 형 고드프루아 드 부용이 죽자 보두앵이 예루살렘에 들어와 예루살렘의 왕 보두앵 1세가 되어, 예루살렘 왕국을 건국했다.<br/><br/>1612년 9월 12일 고스티닌 성에서 사망했으며 1635년 러시아 차르국의 차르였던 미하일 1세의 요청에 따라 바실리 4세의 시신이 모스크바로 귀환했다.<br/><br/>내부 마케도니아 혁명 기구의 회원으로 활동했으며 1934년에는 프랑스 마르세유에서 유고슬라비아 왕국의 알렉산다르 1세 국왕과 프랑스의 루이 바르투 외무장관을 암살했다.<br/><br/>묵돌이 선우가 된 209년에는 진시황이 사망한 직후였으며 이로 인해 진나라가 큰 혼란에 빠져 중국은 초한전쟁이라는 내전을 치르고 있었다.<br/><br/>만네르헤임은 1951년 1월 27일(협정 세계시), 핀란드 시간으로는 1월 28일 스위스 로잔의 주립병원에서 사망했다.<br/><br/>1593년 6월 2차 진주성 전투에서 진주성이 함락되자 의병장인 김천일·고종후와 함께 촉석루에 올라 임금의 처소가 있는 북쪽을 향해 4배(四拜)를 한 후 스스로 진주 남강에 투신해 순절했다.<br/><br/>"
      ],
      "text/plain": [
       "<IPython.core.display.HTML object>"
      ]
     },
     "metadata": {},
     "execution_count": 141
    }
   ],
   "metadata": {}
  },
  {
   "cell_type": "code",
   "execution_count": 95,
   "source": [
    "#종교 데이터 확인\n",
    "train_data[train_data.label == label_type[29]].values[6:10]"
   ],
   "outputs": [
    {
     "output_type": "execute_result",
     "data": {
      "text/plain": [
       "array([[1249,\n",
       "        '《법화경》을 근본 교의(敎義)로 하고 선정(禪定)과 지혜의 조화를 종의(宗義)로 하는 신라의 천태종은 고려 때 대각국사 의천에 의거(依據)해 해동천태종으로 성립되었다.',\n",
       "        \"{'word': '대각국사', 'start_idx': 62, 'end_idx': 65, 'type': 'PER'}\",\n",
       "        \"{'word': '천태종', 'start_idx': 52, 'end_idx': 54, 'type': 'ORG'}\",\n",
       "        'per:religion', 'wikipedia'],\n",
       "       [1496,\n",
       "        '미국 오하이오 윌밍턴 칼리지 신학과를 나온 이후 1917년 1월, 퀘이커교 선교사로써 국민정부 시대 중화민국 대륙 본토 베이핑을 처음으로 내방(來訪)하였으며 그 당시 리타이구이(李太規, 이태규)라는 중국어 이름을 사용하였다.',\n",
       "        \"{'word': '리타이구이', 'start_idx': 93, 'end_idx': 97, 'type': 'PER'}\",\n",
       "        \"{'word': '퀘이커', 'start_idx': 37, 'end_idx': 39, 'type': 'ORG'}\",\n",
       "        'per:religion', 'wikipedia'],\n",
       "       [1733,\n",
       "        '현재 통일교의 세계회장은 문선진이지만, 참어머님으로 불리는 한학자씨가 실권을 잡고 있으며, 사망 전 문선명에 의해 유일한 후계자로 지명받은 전 세계회장 문형진씨는 별개 세력화를 선언한 상태이다.',\n",
       "        \"{'word': '문선명', 'start_idx': 56, 'end_idx': 58, 'type': 'PER'}\",\n",
       "        \"{'word': '통일교', 'start_idx': 3, 'end_idx': 5, 'type': 'ORG'}\",\n",
       "        'per:religion', 'wikipedia'],\n",
       "       [1865,\n",
       "        \"1844년 무신론 정치 경제학자인 카를 마르크스는 그의 저서 《헤겔 법철학의 비판을 위하여, 서설》에서 '종교적 비참은 현실적 비참의 표현이자 현실적 비참에 대한 항의이다. 종교는 곤궁한 피조물의 한숨이며, 무정한 세계의 감정이고, 또 정신 없는 상태의 정신이다. 종교는 인민의 아편이다.' 라고 주장하였다.\",\n",
       "        \"{'word': '마르크스', 'start_idx': 22, 'end_idx': 25, 'type': 'PER'}\",\n",
       "        \"{'word': '무신론', 'start_idx': 6, 'end_idx': 8, 'type': 'POH'}\",\n",
       "        'per:religion', 'wikipedia']], dtype=object)"
      ]
     },
     "metadata": {},
     "execution_count": 95
    }
   ],
   "metadata": {}
  },
  {
   "cell_type": "markdown",
   "source": [
    "# 데이터 늘리기"
   ],
   "metadata": {}
  },
  {
   "cell_type": "markdown",
   "source": [
    "## EDA : Easy Data Augmentation"
   ],
   "metadata": {}
  },
  {
   "cell_type": "code",
   "execution_count": 112,
   "source": [
    "eda = EDA(morpheme_analyzer=\"Okt\", alpha_sr=0.3, alpha_ri=0.3, alpha_rs=0.3, prob_rd=0.3)\n",
    "\n",
    "text = \"이순신은 조선 중기 무신이다.\"\n",
    "\n",
    "result = eda(text)\n",
    "print(result)\n",
    "#은 조선 중기 무신이다\n",
    "#.은 조선중기 무신이다이순신\n",
    "\n",
    "result = eda(text, p=(0.9,0.9,0.9,0.9), repetition=2)\n",
    "print(result)\n",
    "#'은 조선 .중기무신이순신이다' , '은중기.이순신조선 무신 이다'"
   ],
   "outputs": [
    {
     "output_type": "stream",
     "name": "stdout",
     "text": [
      "이순신은 화물선 중기 무신이다.\n",
      "['이순신 화물선 은 상선 백금 화물선 어선 조선 중기 백금 무신이다.', '은']\n"
     ]
    }
   ],
   "metadata": {}
  },
  {
   "cell_type": "markdown",
   "source": [
    "## AEDA : A Easier Data Augmentation"
   ],
   "metadata": {}
  },
  {
   "cell_type": "code",
   "execution_count": 113,
   "source": [
    "from koeda import AEDA\n",
    "\n",
    "\n",
    "aeda = AEDA(\n",
    "    morpheme_analyzer=\"Okt\", punc_ratio=0.3, punctuations=[\".\", \",\", \"!\", \"?\", \";\", \":\"]\n",
    ")\n",
    "\n",
    "text = \"이순신은 조선 중기 무신이다\"\n",
    "\n",
    "result = aeda(text)\n",
    "print(result)\n",
    "#이순신은 조선 중기 ; 무신이다\n",
    "\n",
    "result = aeda(text, p=0.9, repetition=2)\n",
    "print(result)\n",
    "# ['이순신 ? 은 ; 조선 중기 , 무신 , 이다', '! 이순신 : 은 ! 조선 : 중기 ! 무신 ? 이다']\n"
   ],
   "outputs": [
    {
     "output_type": "stream",
     "name": "stdout",
     "text": [
      "이순신은 : 조선 중기 무신이다\n",
      "['이순신은 ! 조선 중기 무신 ; 이다', '이순신 . 은 ! 조선 : 중기 ! 무신이다']\n"
     ]
    }
   ],
   "metadata": {}
  },
  {
   "cell_type": "code",
   "execution_count": 124,
   "source": [
    "augmenter = EDA(\n",
    "              morpheme_analyzer = \"Mecab\",  # Default = \"Okt\"\n",
    "              alpha_sr= 0.1,\n",
    "              alpha_ri= 0.1,\n",
    "              alpha_rs= 0.1,\n",
    "              prob_rd= 0.1\n",
    "            )\n",
    "\n",
    "result = augmenter(\n",
    "            train_data,\n",
    "            p = (0.1, 0.1, 0.1, 0.1),  # Default = (0.1, 0.1, 0.1, 0.1)\n",
    "            repetition = 1\n",
    "          )"
   ],
   "outputs": [
    {
     "output_type": "error",
     "ename": "TypeError",
     "evalue": "Does not support the data type : <class 'pandas.core.frame.DataFrame'>",
     "traceback": [
      "\u001b[0;31m---------------------------------------------------------------------------\u001b[0m",
      "\u001b[0;31mTypeError\u001b[0m                                 Traceback (most recent call last)",
      "\u001b[0;32m<ipython-input-124-4908d072cddf>\u001b[0m in \u001b[0;36m<module>\u001b[0;34m\u001b[0m\n\u001b[1;32m      7\u001b[0m             )\n\u001b[1;32m      8\u001b[0m \u001b[0;34m\u001b[0m\u001b[0m\n\u001b[0;32m----> 9\u001b[0;31m result = augmenter(\n\u001b[0m\u001b[1;32m     10\u001b[0m             \u001b[0mtrain_data\u001b[0m\u001b[0;34m,\u001b[0m\u001b[0;34m\u001b[0m\u001b[0;34m\u001b[0m\u001b[0m\n\u001b[1;32m     11\u001b[0m             \u001b[0mp\u001b[0m \u001b[0;34m=\u001b[0m \u001b[0;34m(\u001b[0m\u001b[0;36m0.1\u001b[0m\u001b[0;34m,\u001b[0m \u001b[0;36m0.1\u001b[0m\u001b[0;34m,\u001b[0m \u001b[0;36m0.1\u001b[0m\u001b[0;34m,\u001b[0m \u001b[0;36m0.1\u001b[0m\u001b[0;34m)\u001b[0m\u001b[0;34m,\u001b[0m  \u001b[0;31m# Default = (0.1, 0.1, 0.1, 0.1)\u001b[0m\u001b[0;34m\u001b[0m\u001b[0;34m\u001b[0m\u001b[0m\n",
      "\u001b[0;32m/opt/conda/lib/python3.8/site-packages/koeda/eda.py\u001b[0m in \u001b[0;36m__call__\u001b[0;34m(self, *args, **kwargs)\u001b[0m\n\u001b[1;32m     37\u001b[0m \u001b[0;34m\u001b[0m\u001b[0m\n\u001b[1;32m     38\u001b[0m     \u001b[0;32mdef\u001b[0m \u001b[0m__call__\u001b[0m\u001b[0;34m(\u001b[0m\u001b[0mself\u001b[0m\u001b[0;34m,\u001b[0m \u001b[0;34m*\u001b[0m\u001b[0margs\u001b[0m\u001b[0;34m,\u001b[0m \u001b[0;34m**\u001b[0m\u001b[0mkwargs\u001b[0m\u001b[0;34m)\u001b[0m\u001b[0;34m:\u001b[0m\u001b[0;34m\u001b[0m\u001b[0;34m\u001b[0m\u001b[0m\n\u001b[0;32m---> 39\u001b[0;31m         \u001b[0;32mreturn\u001b[0m \u001b[0mself\u001b[0m\u001b[0;34m.\u001b[0m\u001b[0meda\u001b[0m\u001b[0;34m(\u001b[0m\u001b[0;34m*\u001b[0m\u001b[0margs\u001b[0m\u001b[0;34m,\u001b[0m \u001b[0;34m**\u001b[0m\u001b[0mkwargs\u001b[0m\u001b[0;34m)\u001b[0m\u001b[0;34m\u001b[0m\u001b[0;34m\u001b[0m\u001b[0m\n\u001b[0m\u001b[1;32m     40\u001b[0m \u001b[0;34m\u001b[0m\u001b[0m\n\u001b[1;32m     41\u001b[0m     def eda(\n",
      "\u001b[0;32m/opt/conda/lib/python3.8/site-packages/koeda/eda.py\u001b[0m in \u001b[0;36meda\u001b[0;34m(self, data, p, repetition)\u001b[0m\n\u001b[1;32m     61\u001b[0m                 )\n\u001b[1;32m     62\u001b[0m         \u001b[0;32melse\u001b[0m\u001b[0;34m:\u001b[0m\u001b[0;34m\u001b[0m\u001b[0;34m\u001b[0m\u001b[0m\n\u001b[0;32m---> 63\u001b[0;31m             \u001b[0;32mraise\u001b[0m \u001b[0mTypeError\u001b[0m\u001b[0;34m(\u001b[0m\u001b[0;34mf\"Does not support the data type : {type(data)}\"\u001b[0m\u001b[0;34m)\u001b[0m\u001b[0;34m\u001b[0m\u001b[0;34m\u001b[0m\u001b[0m\n\u001b[0m\u001b[1;32m     64\u001b[0m \u001b[0;34m\u001b[0m\u001b[0m\n\u001b[1;32m     65\u001b[0m     \u001b[0;32mdef\u001b[0m \u001b[0m_eda\u001b[0m\u001b[0;34m(\u001b[0m\u001b[0mself\u001b[0m\u001b[0;34m,\u001b[0m \u001b[0mdata\u001b[0m\u001b[0;34m:\u001b[0m \u001b[0mstr\u001b[0m\u001b[0;34m,\u001b[0m \u001b[0mp\u001b[0m\u001b[0;34m:\u001b[0m \u001b[0mList\u001b[0m\u001b[0;34m[\u001b[0m\u001b[0mfloat\u001b[0m\u001b[0;34m]\u001b[0m\u001b[0;34m)\u001b[0m \u001b[0;34m->\u001b[0m \u001b[0mstr\u001b[0m\u001b[0;34m:\u001b[0m\u001b[0;34m\u001b[0m\u001b[0;34m\u001b[0m\u001b[0m\n",
      "\u001b[0;31mTypeError\u001b[0m: Does not support the data type : <class 'pandas.core.frame.DataFrame'>"
     ]
    }
   ],
   "metadata": {}
  },
  {
   "cell_type": "code",
   "execution_count": 122,
   "source": [
    "augmenter = AEDA(\n",
    "              morpheme_analyze = \"Mecab\",  # Default = \"Okt\"\n",
    "              punc_ratio =  0.3,\n",
    "              punctuations = ('.', ',', '!', '?', ';', ':')\n",
    "            )\n",
    "\n",
    "result = augmenter(\n",
    "            train_data,\n",
    "            p = None,  # Default = 0.3 \n",
    "            repetition = 1\n",
    "          )"
   ],
   "outputs": [
    {
     "output_type": "error",
     "ename": "TypeError",
     "evalue": "__init__() got an unexpected keyword argument 'morpheme_analyze'",
     "traceback": [
      "\u001b[0;31m---------------------------------------------------------------------------\u001b[0m",
      "\u001b[0;31mTypeError\u001b[0m                                 Traceback (most recent call last)",
      "\u001b[0;32m<ipython-input-122-7100022539bf>\u001b[0m in \u001b[0;36m<module>\u001b[0;34m\u001b[0m\n\u001b[1;32m      1\u001b[0m \u001b[0;32mimport\u001b[0m \u001b[0mMeCab\u001b[0m\u001b[0;34m\u001b[0m\u001b[0;34m\u001b[0m\u001b[0m\n\u001b[0;32m----> 2\u001b[0;31m augmenter = AEDA(\n\u001b[0m\u001b[1;32m      3\u001b[0m               \u001b[0mmorpheme_analyze\u001b[0m \u001b[0;34m=\u001b[0m \u001b[0;34m\"Mecab\"\u001b[0m\u001b[0;34m,\u001b[0m  \u001b[0;31m# Default = \"Okt\"\u001b[0m\u001b[0;34m\u001b[0m\u001b[0;34m\u001b[0m\u001b[0m\n\u001b[1;32m      4\u001b[0m               \u001b[0mpunc_ratio\u001b[0m \u001b[0;34m=\u001b[0m  \u001b[0;36m0.3\u001b[0m\u001b[0;34m,\u001b[0m\u001b[0;34m\u001b[0m\u001b[0;34m\u001b[0m\u001b[0m\n\u001b[1;32m      5\u001b[0m               \u001b[0mpunctuations\u001b[0m \u001b[0;34m=\u001b[0m \u001b[0;34m(\u001b[0m\u001b[0;34m'.'\u001b[0m\u001b[0;34m,\u001b[0m \u001b[0;34m','\u001b[0m\u001b[0;34m,\u001b[0m \u001b[0;34m'!'\u001b[0m\u001b[0;34m,\u001b[0m \u001b[0;34m'?'\u001b[0m\u001b[0;34m,\u001b[0m \u001b[0;34m';'\u001b[0m\u001b[0;34m,\u001b[0m \u001b[0;34m':'\u001b[0m\u001b[0;34m)\u001b[0m\u001b[0;34m\u001b[0m\u001b[0;34m\u001b[0m\u001b[0m\n",
      "\u001b[0;31mTypeError\u001b[0m: __init__() got an unexpected keyword argument 'morpheme_analyze'"
     ]
    }
   ],
   "metadata": {}
  },
  {
   "cell_type": "code",
   "execution_count": 118,
   "source": [
    "augmenter = RD(\n",
    "              morpheme_analyzer: str = None, \n",
    "            )\n",
    "\n",
    "augmenter = RI(\n",
    "              morpheme_analyzer: str = None, \n",
    "              stopword: bool = False\n",
    "            )\n",
    "\n",
    "augmenter = SR(\n",
    "              morpheme_analyzer: str = None, \n",
    "              stopword: bool = False\n",
    "            )\n",
    "\n",
    "augmenter = RS(\n",
    "              morpheme_analyzer: str = None, \n",
    "            )\n",
    "\n",
    "result = augmenter(\n",
    "            data: Union[List[str], str], \n",
    "            p: float = 0.1,\n",
    "            repetition: int = 1\n",
    "          )\n"
   ],
   "outputs": [
    {
     "output_type": "error",
     "ename": "SyntaxError",
     "evalue": "invalid syntax (<ipython-input-118-eeea0569816c>, line 2)",
     "traceback": [
      "\u001b[0;36m  File \u001b[0;32m\"<ipython-input-118-eeea0569816c>\"\u001b[0;36m, line \u001b[0;32m2\u001b[0m\n\u001b[0;31m    morpheme_analyzer: str = None,\u001b[0m\n\u001b[0m                     ^\u001b[0m\n\u001b[0;31mSyntaxError\u001b[0m\u001b[0;31m:\u001b[0m invalid syntax\n"
     ]
    }
   ],
   "metadata": {}
  },
  {
   "cell_type": "code",
   "execution_count": null,
   "source": [],
   "outputs": [],
   "metadata": {}
  },
  {
   "cell_type": "code",
   "execution_count": null,
   "source": [],
   "outputs": [],
   "metadata": {}
  },
  {
   "cell_type": "code",
   "execution_count": null,
   "source": [],
   "outputs": [],
   "metadata": {}
  },
  {
   "cell_type": "code",
   "execution_count": null,
   "source": [],
   "outputs": [],
   "metadata": {}
  },
  {
   "cell_type": "code",
   "execution_count": null,
   "source": [],
   "outputs": [],
   "metadata": {}
  },
  {
   "cell_type": "code",
   "execution_count": null,
   "source": [],
   "outputs": [],
   "metadata": {}
  }
 ],
 "metadata": {
  "interpreter": {
   "hash": "98b0a9b7b4eaaa670588a142fd0a9b87eaafe866f1db4228be72b4211d12040f"
  },
  "kernelspec": {
   "name": "python3",
   "display_name": "Python 3.8.5 64-bit ('base': conda)"
  },
  "language_info": {
   "codemirror_mode": {
    "name": "ipython",
    "version": 3
   },
   "file_extension": ".py",
   "mimetype": "text/x-python",
   "name": "python",
   "nbconvert_exporter": "python",
   "pygments_lexer": "ipython3",
   "version": "3.8.5"
  }
 },
 "nbformat": 4,
 "nbformat_minor": 4
}