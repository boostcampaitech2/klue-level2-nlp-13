{
 "cells": [
  {
   "cell_type": "code",
   "execution_count": 78,
   "id": "91b15e4a-e96a-4f56-b017-e059389a5815",
   "metadata": {},
   "outputs": [],
   "source": [
    "import pandas as pd\n",
    "import numpy as np\n",
    "from sklearn.metrics import confusion_matrix\n",
    "from sklearn.model_selection import train_test_split\n",
    "from transformers import AutoModelForSequenceClassification, AutoTokenizer\n",
    "from ast import literal_eval\n",
    "import pickle as pickle\n",
    "import torch\n",
    "from torch.utils.data import DataLoader\n",
    "from tqdm.notebook import tqdm\n",
    "import torch.nn.functional as F\n",
    "import matplotlib.pyplot as plt\n",
    "import itertools"
   ]
  },
  {
   "cell_type": "code",
   "execution_count": 74,
   "id": "4a23c453-b285-42eb-b10b-565a323ed2d0",
   "metadata": {},
   "outputs": [],
   "source": [
    "class RE_Dataset(torch.utils.data.Dataset):\n",
    "    \"\"\" Dataset 구성을 위한 class.\"\"\"\n",
    "    def __init__(self, pair_dataset, labels):\n",
    "        self.pair_dataset = pair_dataset\n",
    "        self.labels = labels\n",
    "\n",
    "    def __getitem__(self, idx):\n",
    "        item = {key: val[idx].clone().detach() for key, val in self.pair_dataset.items()}\n",
    "        item['labels'] = torch.tensor(self.labels[idx])\n",
    "        return item\n",
    "\n",
    "    def __len__(self):\n",
    "        return len(self.labels)\n",
    "\n",
    "def inference(model, tokenized_sent, device):\n",
    "    \"\"\"\n",
    "    test dataset을 DataLoader로 만들어 준 후,\n",
    "    batch_size로 나눠 model이 예측 합니다.\n",
    "    \"\"\"\n",
    "    dataloader = DataLoader(tokenized_sent, batch_size=16, shuffle=False)\n",
    "    model.eval()\n",
    "    output_pred = []\n",
    "    output_prob = []\n",
    "    for i, data in enumerate(tqdm(dataloader)):\n",
    "        with torch.no_grad():\n",
    "            outputs = model(\n",
    "              input_ids=data['input_ids'].to(device),\n",
    "              attention_mask=data['attention_mask'].to(device)\n",
    "              )\n",
    "            logits = outputs[0]\n",
    "            prob = F.softmax(logits, dim=-1).detach().cpu().numpy()\n",
    "            logits = logits.detach().cpu().numpy()\n",
    "            result = np.argmax(logits, axis=-1)\n",
    "\n",
    "            output_pred.append(result)\n",
    "            output_prob.append(prob)\n",
    "\n",
    "    return np.concatenate(output_pred).tolist(), np.concatenate(output_prob, axis=0).tolist()\n",
    "\n",
    "def preprocessing_dataset(dataset):\n",
    "    \"\"\" 처음 불러온 csv 파일을 원하는 형태의 DataFrame으로 변경 시켜줍니다.\"\"\"\n",
    "    subject_entities = []\n",
    "    subject_idx = []\n",
    "    object_entities = []\n",
    "    object_idx = []\n",
    "    for subject_entity, object_entity in zip(dataset['subject_entity'], dataset['object_entity']):\n",
    "        subject_entity = literal_eval(subject_entity)\n",
    "        object_entity = literal_eval(object_entity)\n",
    "\n",
    "        subject_word = subject_entity['word']\n",
    "        object_word = object_entity['word']\n",
    "\n",
    "        subject_s_idx = int(subject_entity['start_idx'])\n",
    "        subject_e_idx = int(subject_entity['end_idx'])\n",
    "\n",
    "        object_s_idx = int(object_entity['start_idx'])\n",
    "        object_e_idx = int(object_entity['end_idx'])\n",
    "\n",
    "        subject_entities.append(subject_word)\n",
    "        subject_idx.append([subject_s_idx, subject_e_idx])\n",
    "        object_entities.append(object_word)\n",
    "        object_idx.append([object_s_idx, object_e_idx])\n",
    "\n",
    "    out_dataset = pd.DataFrame({'id':dataset['id'], 'sentence':dataset['sentence'],'subject_entity':subject_entities, 'subject_entity_idx': subject_idx,\n",
    "          'object_entity':object_entities, 'object_entity_idx': object_idx,'label':dataset['label'],})\n",
    "\n",
    "    return out_dataset\n",
    "\n",
    "def tokenized_dataset(dataset, tokenizer):\n",
    "    \"\"\" tokenizer에 따라 sentence를 tokenizing 합니다.\"\"\"\n",
    "    concat_entity = []\n",
    "    for idx, (e01_idx, e02_idx) in enumerate(zip(dataset['subject_entity_idx'], dataset['object_entity_idx'])):\n",
    "        temp_sentence = dataset['sentence'].iloc[idx]\n",
    "        temp_sentence = (temp_sentence[:e01_idx[0]] + ' [E1] ' + temp_sentence[e01_idx[0]:e01_idx[1]+1] + ' [/E1] ' \n",
    "        + temp_sentence[e01_idx[1]+1:e02_idx[0]] + ' [E2] ' + temp_sentence[e02_idx[0]:e02_idx[1]+1] + ' [/E2] ' + temp_sentence[e02_idx[1]+1:])\n",
    "        dataset['sentence'].iloc[idx] = temp_sentence\n",
    "    tokenized_sentences = tokenizer(\n",
    "    list(dataset['sentence']),\n",
    "    return_tensors=\"pt\",\n",
    "    padding=True,\n",
    "    truncation=True,\n",
    "    max_length=256,\n",
    "    add_special_tokens=True,\n",
    "    #return_token_type_ids=False, # 문장 id\n",
    "    )\n",
    "\n",
    "    return tokenized_sentences\n",
    "\n",
    "def load_data(dataset_dir, type_):\n",
    "    \"\"\" csv 파일을 경로에 맡게 불러 옵니다. \"\"\"\n",
    "    pd_dataset = pd.read_csv(dataset_dir)\n",
    "    \n",
    "    if type_ == 'binary':\n",
    "        pd_dataset.loc[pd_dataset.label != 'no_relation', 'label'] = 'org:top_members/employees'\n",
    "    \n",
    "    dataset = preprocessing_dataset(pd_dataset)\n",
    "\n",
    "    return dataset\n",
    "\n",
    "def load_test_dataset(dataset_dir, tokenizer):\n",
    "    \"\"\"\n",
    "    test dataset을 불러온 후,\n",
    "    tokenizing 합니다.\n",
    "    \"\"\"\n",
    "    test_dataset = load_data(dataset_dir)\n",
    "    test_label = test_dataset['label'].values #list(map(int,test_dataset['label'].values))\n",
    "\n",
    "    # tokenizing dataset\n",
    "    tokenized_test = tokenized_dataset(test_dataset, tokenizer)\n",
    "    return test_dataset['id'], tokenized_test, test_label\n",
    "\n",
    "def label_to_num(label):\n",
    "    num_label = []\n",
    "    with open('dict_label_to_num.pkl', 'rb') as f:\n",
    "        dict_label_to_num = pickle.load(f)\n",
    "        for v in label:\n",
    "            num_label.append(dict_label_to_num[v])\n",
    "\n",
    "    return num_label\n",
    "\n",
    "def plot_confusion_matrix(cm, target_names=None, cmap=None, normalize=True, labels=True, title='Confusion matrix'):\n",
    "    accuracy = np.trace(cm) / float(np.sum(cm))\n",
    "    misclass = 1 - accuracy\n",
    "\n",
    "    if cmap is None:\n",
    "        cmap = plt.get_cmap('Blues')\n",
    "\n",
    "    if normalize:\n",
    "        cm = cm.astype('float') / cm.sum(axis=1)[:, np.newaxis]\n",
    "        \n",
    "    plt.figure(figsize=(8, 6))\n",
    "    plt.imshow(cm, interpolation='nearest', cmap=cmap)\n",
    "    plt.title(title)\n",
    "    plt.colorbar()\n",
    "\n",
    "    thresh = cm.max() / 1.5 if normalize else cm.max() / 2\n",
    "    \n",
    "    if target_names is not None:\n",
    "        tick_marks = np.arange(len(target_names))\n",
    "        plt.xticks(tick_marks, target_names)\n",
    "        plt.yticks(tick_marks, target_names)\n",
    "    \n",
    "    if labels:\n",
    "        for i, j in itertools.product(range(cm.shape[0]), range(cm.shape[1])):\n",
    "            if normalize:\n",
    "                plt.text(j, i, \"{:0.4f}\".format(cm[i, j]),\n",
    "                         horizontalalignment=\"center\",\n",
    "                         color=\"white\" if cm[i, j] > thresh else \"black\")\n",
    "            else:\n",
    "                plt.text(j, i, \"{:,}\".format(cm[i, j]),\n",
    "                         horizontalalignment=\"center\",\n",
    "                         color=\"white\" if cm[i, j] > thresh else \"black\")\n",
    "\n",
    "    plt.tight_layout()\n",
    "    plt.ylabel('True label')\n",
    "    plt.xlabel('Predicted label\\naccuracy={:0.4f}; misclass={:0.4f}'.format(accuracy, misclass))\n",
    "    plt.show()"
   ]
  },
  {
   "cell_type": "code",
   "execution_count": 80,
   "id": "8fe13922-8582-47d3-8999-442baabd4e1b",
   "metadata": {},
   "outputs": [],
   "source": [
    "# git/klue-level2-nlp-13-1/results/bert_C3F7_AW_CS_Spt_data_binary/checkpoint-500\n",
    "model_path = '/opt/ml/git/klue-level2-nlp-13-1/results/bert_C3F7_AW_CS_Spt_data_binary/checkpoint-500'\n",
    "type_ = 'binary'\n",
    "data_path = '../../dataset/train/train.csv'"
   ]
  },
  {
   "cell_type": "code",
   "execution_count": 81,
   "id": "9e13b298-1877-44a4-bec0-6728a04bfb1c",
   "metadata": {},
   "outputs": [],
   "source": [
    "tokenizer = AutoTokenizer.from_pretrained('klue/bert-base')\n",
    "model = AutoModelForSequenceClassification.from_pretrained(model_path).to('cuda:0')"
   ]
  },
  {
   "cell_type": "code",
   "execution_count": 82,
   "id": "3a1c42c5-c9ab-477f-894a-a6f352a70bfe",
   "metadata": {},
   "outputs": [],
   "source": [
    "dataset = load_data(data_path, type_)\n",
    "train_dataset, valid_dataset = train_test_split(dataset, test_size=0.2, stratify=dataset['label'], shuffle=True, random_state=42)"
   ]
  },
  {
   "cell_type": "code",
   "execution_count": 83,
   "id": "f778e395-b591-4cea-b811-0a7cd5201323",
   "metadata": {},
   "outputs": [],
   "source": [
    "train_label = label_to_num(train_dataset['label'].values)\n",
    "valid_label = label_to_num(valid_dataset['label'].values)"
   ]
  },
  {
   "cell_type": "code",
   "execution_count": 84,
   "id": "98dd53bb-37cb-471b-89c0-ac3d6375ee0f",
   "metadata": {},
   "outputs": [
    {
     "name": "stderr",
     "output_type": "stream",
     "text": [
      "/opt/conda/lib/python3.8/site-packages/pandas/core/indexing.py:1732: SettingWithCopyWarning: \n",
      "A value is trying to be set on a copy of a slice from a DataFrame\n",
      "\n",
      "See the caveats in the documentation: https://pandas.pydata.org/pandas-docs/stable/user_guide/indexing.html#returning-a-view-versus-a-copy\n",
      "  self._setitem_single_block(indexer, value, name)\n"
     ]
    }
   ],
   "source": [
    "tokenized_train = tokenized_dataset(train_dataset, tokenizer)\n",
    "tokenized_valid = tokenized_dataset(valid_dataset, tokenizer)"
   ]
  },
  {
   "cell_type": "code",
   "execution_count": 85,
   "id": "049341ee-1333-4579-bddd-ec3cf83705f5",
   "metadata": {},
   "outputs": [],
   "source": [
    "RE_train_dataset = RE_Dataset(tokenized_train, train_label)\n",
    "RE_valid_dataset = RE_Dataset(tokenized_valid, valid_label)"
   ]
  },
  {
   "cell_type": "code",
   "execution_count": 86,
   "id": "ce9d4f78-9c66-4e81-9d17-572fd794d9a5",
   "metadata": {},
   "outputs": [
    {
     "data": {
      "application/vnd.jupyter.widget-view+json": {
       "model_id": "c9c8a7428ea64ef8a3e97c4b7c5d035c",
       "version_major": 2,
       "version_minor": 0
      },
      "text/plain": [
       "HBox(children=(HTML(value=''), FloatProgress(value=0.0, max=406.0), HTML(value='')))"
      ]
     },
     "metadata": {},
     "output_type": "display_data"
    },
    {
     "name": "stdout",
     "output_type": "stream",
     "text": [
      "\n"
     ]
    }
   ],
   "source": [
    "pred_answer, output_prob = inference(model, RE_valid_dataset, 'cuda:0')"
   ]
  },
  {
   "cell_type": "code",
   "execution_count": 87,
   "id": "5bda2b55-34fc-4023-b863-0d1458e1d1c0",
   "metadata": {},
   "outputs": [],
   "source": [
    "cm = confusion_matrix(valid_label, pred_answer)"
   ]
  },
  {
   "cell_type": "code",
   "execution_count": 90,
   "id": "198150a0-cf69-476b-a990-c4849eafbfc2",
   "metadata": {},
   "outputs": [
    {
     "data": {
      "image/png": "[encoded data removed]",
      "text/plain": [
       "<Figure size 576x432 with 2 Axes>"
      ]
     },
     "metadata": {
      "needs_background": "light"
     },
     "output_type": "display_data"
    }
   ],
   "source": [
    "plot_confusion_matrix(cm, target_names=['no_relation', 'relation'],normalize = False)"
   ]
  },
  {
   "cell_type": "code",
   "execution_count": null,
   "id": "deb90a47-6967-4db6-b4c3-4ab694f99065",
   "metadata": {},
   "outputs": [],
   "source": []
  }
 ],
 "metadata": {
  "kernelspec": {
   "display_name": "Python 3 (ipykernel)",
   "language": "python",
   "name": "python3"
  },
  "language_info": {
   "codemirror_mode": {
    "name": "ipython",
    "version": 3
   },
   "file_extension": ".py",
   "mimetype": "text/x-python",
   "name": "python",
   "nbconvert_exporter": "python",
   "pygments_lexer": "ipython3",
   "version": "3.8.5"
  }
 },
 "nbformat": 4,
 "nbformat_minor": 5
}
