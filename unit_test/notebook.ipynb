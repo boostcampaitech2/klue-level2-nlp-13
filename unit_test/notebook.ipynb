{
 "cells": [
  {
   "cell_type": "code",
   "execution_count": 1,
   "id": "0e522423-2de7-4ce1-aea9-e4ef8bf6f3e8",
   "metadata": {},
   "outputs": [],
   "source": [
    "## Tokenizer"
   ]
  },
  {
   "cell_type": "code",
   "execution_count": 2,
   "id": "39f2a219-4d41-441b-983f-a0a181dc68f0",
   "metadata": {},
   "outputs": [],
   "source": [
    "from transformers import AutoConfig, AutoModelForSequenceClassification\n",
    "from transformers import AutoTokenizer"
   ]
  },
  {
   "cell_type": "code",
   "execution_count": 36,
   "id": "dbdec0ad-116c-493f-b769-a221226f2487",
   "metadata": {},
   "outputs": [],
   "source": [
    "tokenizer = AutoTokenizer.from_pretrained('klue/bert-base')"
   ]
  },
  {
   "cell_type": "code",
   "execution_count": 12,
   "id": "5b1eab61-09c4-4b7d-9833-2320ea833c0d",
   "metadata": {},
   "outputs": [
    {
     "name": "stdout",
     "output_type": "stream",
     "text": [
      "[2, 10661, 2073, 3957, 9652, 2079, 15749, 28674, 18, 3]\n",
      "[CLS] 이순신은 조선 중기의 무신이다. [SEP]\n"
     ]
    }
   ],
   "source": [
    "print(tokenizer.encode('이순신은 조선 중기의 무신이다.'))\n",
    "#print(tokenizer.encode('이순신은 조선 중기의 무신이다.'))\n",
    "print(tokenizer.decode([2, 10661, 2073, 3957, 9652, 2079, 15749, 28674, 18, 3]))"
   ]
  },
  {
   "cell_type": "code",
   "execution_count": 37,
   "id": "d9311c6b-aeb2-404e-b84f-82d8b84e9def",
   "metadata": {},
   "outputs": [],
   "source": [
    "# tokenizer.add_special_tokens(\"[TEST]\")\n",
    "# tokenizer.add_special_tokens(\"[/TEST]\")\n",
    "\n",
    "special_tokens_dict = {'additional_special_tokens': ['[TEST]','[C3]','[C4]']}\n",
    "num_added_toks = tokenizer.add_special_tokens(special_tokens_dict)\n",
    "#special_tokens_dict = {'additional_special_tokens': config.new_special_token_list}\n",
    "#num_added_toks = tokenizer.add_special_tokens(special_tokens_dict)"
   ]
  },
  {
   "cell_type": "code",
   "execution_count": 40,
   "id": "8d8a5f9e-3228-4867-aadd-d34854203d24",
   "metadata": {},
   "outputs": [
    {
     "name": "stdout",
     "output_type": "stream",
     "text": [
      "[2, 10661, 2073, 32000, 3957, 63, 19, 26967, 64, 9652, 2079, 32001, 15749, 32001, 30651, 18, 3]\n"
     ]
    }
   ],
   "source": [
    "print(tokenizer.encode('이순신은 [TEST]조선[/TEST] 중기의 [C3]무신[C3]이다.'))"
   ]
  },
  {
   "cell_type": "code",
   "execution_count": 38,
   "id": "c01a3efb-98d0-45af-84d9-12e3dde42253",
   "metadata": {},
   "outputs": [
    {
     "data": {
      "text/plain": [
       "PreTrainedTokenizerFast(name_or_path='klue/bert-base', vocab_size=32000, model_max_len=512, is_fast=True, padding_side='right', special_tokens={'unk_token': '[UNK]', 'sep_token': '[SEP]', 'pad_token': '[PAD]', 'cls_token': '[CLS]', 'mask_token': '[MASK]', 'additional_special_tokens': ['[TEST]', '[C3]', '[C4]']})"
      ]
     },
     "execution_count": 38,
     "metadata": {},
     "output_type": "execute_result"
    }
   ],
   "source": [
    "tokenizer"
   ]
  },
  {
   "cell_type": "code",
   "execution_count": 41,
   "id": "a21c1863-70fc-42ad-9cfd-daf9d4607f59",
   "metadata": {},
   "outputs": [
    {
     "name": "stdout",
     "output_type": "stream",
     "text": [
      "[CLS] 이순신은 [TEST] 조선 [ / TEST ] 중기의 [C3] 무신 [C3] 이다. [SEP]\n"
     ]
    }
   ],
   "source": []
  },
  {
   "cell_type": "code",
   "execution_count": 66,
   "id": "9b51688e-96ba-495e-a27a-64043e6e3db6",
   "metadata": {},
   "outputs": [],
   "source": [
    "sentence_list = ['이순신은 PER 이순신이다 PER']\n",
    "\n",
    "tokenized_sentences = tokenizer(\n",
    "    sentence_list,\n",
    "    return_tensors=\"pt\",\n",
    "    padding=True,\n",
    "    truncation=True,\n",
    "    max_length=256,\n",
    "    add_special_tokens=True,\n",
    "    #return_token_type_ids=False, # 문장 id\n",
    ")"
   ]
  },
  {
   "cell_type": "code",
   "execution_count": 67,
   "id": "0af98d33-2a7b-443e-b48a-b3a31f78fa0a",
   "metadata": {},
   "outputs": [
    {
     "name": "stdout",
     "output_type": "stream",
     "text": [
      "[CLS] 이순신은 PER 이순신이다 PER [SEP]\n"
     ]
    },
    {
     "data": {
      "text/plain": [
       "tensor([    2, 10661,  2073, 21639, 10661, 28674, 21639,     3])"
      ]
     },
     "execution_count": 67,
     "metadata": {},
     "output_type": "execute_result"
    }
   ],
   "source": [
    "print(tokenizer.decode(tokenized_sentences.input_ids[0]))\n",
    "tokenized_sentences.input_ids[0]"
   ]
  },
  {
   "cell_type": "code",
   "execution_count": 70,
   "id": "0d53e961-7d2f-4211-a722-e3cb1a3cc2b4",
   "metadata": {},
   "outputs": [],
   "source": [
    "import pandas as pd\n",
    "from sklearn.model_selection import train_test_split\n",
    "\n",
    "dataset = pd.read_csv('../../../dataset/train/train.csv')\n",
    "train_dataset, valid_dataset = train_test_split(dataset, test_size=0.2, stratify=dataset['label'], random_state=42)"
   ]
  },
  {
   "cell_type": "code",
   "execution_count": 71,
   "id": "cb7345bb-51d5-4585-a3fc-8dd7e8c58023",
   "metadata": {},
   "outputs": [
    {
     "data": {
      "text/html": [
       "<div>\n",
       "<style scoped>\n",
       "    .dataframe tbody tr th:only-of-type {\n",
       "        vertical-align: middle;\n",
       "    }\n",
       "\n",
       "    .dataframe tbody tr th {\n",
       "        vertical-align: top;\n",
       "    }\n",
       "\n",
       "    .dataframe thead th {\n",
       "        text-align: right;\n",
       "    }\n",
       "</style>\n",
       "<table border=\"1\" class=\"dataframe\">\n",
       "  <thead>\n",
       "    <tr style=\"text-align: right;\">\n",
       "      <th></th>\n",
       "      <th>id</th>\n",
       "      <th>sentence</th>\n",
       "      <th>subject_entity</th>\n",
       "      <th>object_entity</th>\n",
       "      <th>label</th>\n",
       "      <th>source</th>\n",
       "    </tr>\n",
       "  </thead>\n",
       "  <tbody>\n",
       "    <tr>\n",
       "      <th>12461</th>\n",
       "      <td>12461</td>\n",
       "      <td>영광군(군수 김준성)은 지난 18일 영광소방서와 합동으로 전라남도 문화재자료 제24...</td>\n",
       "      <td>{'word': '영광군', 'start_idx': 0, 'end_idx': 2, ...</td>\n",
       "      <td>{'word': '전라남도', 'start_idx': 32, 'end_idx': 3...</td>\n",
       "      <td>no_relation</td>\n",
       "      <td>wikitree</td>\n",
       "    </tr>\n",
       "    <tr>\n",
       "      <th>6520</th>\n",
       "      <td>6520</td>\n",
       "      <td>베이징올림픽에서는 국제야구연맹(IBAF)이 경기시간 단축을 위해 10회 말까지 승부...</td>\n",
       "      <td>{'word': '국제야구연맹', 'start_idx': 10, 'end_idx':...</td>\n",
       "      <td>{'word': 'IBAF', 'start_idx': 17, 'end_idx': 2...</td>\n",
       "      <td>org:alternate_names</td>\n",
       "      <td>wikipedia</td>\n",
       "    </tr>\n",
       "    <tr>\n",
       "      <th>4584</th>\n",
       "      <td>4584</td>\n",
       "      <td>가수 볼빨간사춘기 멤버 안지영, 우지윤 씨가 음원 사재기를 하는 사람들에게 일침 했다.</td>\n",
       "      <td>{'word': '볼빨간사춘기', 'start_idx': 3, 'end_idx': ...</td>\n",
       "      <td>{'word': '안지영', 'start_idx': 13, 'end_idx': 15...</td>\n",
       "      <td>per:employee_of</td>\n",
       "      <td>wikitree</td>\n",
       "    </tr>\n",
       "    <tr>\n",
       "      <th>15105</th>\n",
       "      <td>15105</td>\n",
       "      <td>메가박스중앙 주식회사는 중앙그룹 계열사이자 대한민국의 멀티플렉스 영화관 체인이다.</td>\n",
       "      <td>{'word': '메가박스', 'start_idx': 0, 'end_idx': 3,...</td>\n",
       "      <td>{'word': '중앙그룹', 'start_idx': 13, 'end_idx': 1...</td>\n",
       "      <td>org:member_of</td>\n",
       "      <td>wikipedia</td>\n",
       "    </tr>\n",
       "    <tr>\n",
       "      <th>19336</th>\n",
       "      <td>19336</td>\n",
       "      <td>지난 25일(이하 현지 시각) 페이스북 CEO 마크 저커버그는 캘리포니아 산호세에서...</td>\n",
       "      <td>{'word': '페이스북', 'start_idx': 17, 'end_idx': 2...</td>\n",
       "      <td>{'word': '마크 저커버그', 'start_idx': 26, 'end_idx'...</td>\n",
       "      <td>org:top_members/employees</td>\n",
       "      <td>wikitree</td>\n",
       "    </tr>\n",
       "  </tbody>\n",
       "</table>\n",
       "</div>"
      ],
      "text/plain": [
       "          id                                           sentence  \\\n",
       "12461  12461  영광군(군수 김준성)은 지난 18일 영광소방서와 합동으로 전라남도 문화재자료 제24...   \n",
       "6520    6520  베이징올림픽에서는 국제야구연맹(IBAF)이 경기시간 단축을 위해 10회 말까지 승부...   \n",
       "4584    4584   가수 볼빨간사춘기 멤버 안지영, 우지윤 씨가 음원 사재기를 하는 사람들에게 일침 했다.   \n",
       "15105  15105      메가박스중앙 주식회사는 중앙그룹 계열사이자 대한민국의 멀티플렉스 영화관 체인이다.   \n",
       "19336  19336  지난 25일(이하 현지 시각) 페이스북 CEO 마크 저커버그는 캘리포니아 산호세에서...   \n",
       "\n",
       "                                          subject_entity  \\\n",
       "12461  {'word': '영광군', 'start_idx': 0, 'end_idx': 2, ...   \n",
       "6520   {'word': '국제야구연맹', 'start_idx': 10, 'end_idx':...   \n",
       "4584   {'word': '볼빨간사춘기', 'start_idx': 3, 'end_idx': ...   \n",
       "15105  {'word': '메가박스', 'start_idx': 0, 'end_idx': 3,...   \n",
       "19336  {'word': '페이스북', 'start_idx': 17, 'end_idx': 2...   \n",
       "\n",
       "                                           object_entity  \\\n",
       "12461  {'word': '전라남도', 'start_idx': 32, 'end_idx': 3...   \n",
       "6520   {'word': 'IBAF', 'start_idx': 17, 'end_idx': 2...   \n",
       "4584   {'word': '안지영', 'start_idx': 13, 'end_idx': 15...   \n",
       "15105  {'word': '중앙그룹', 'start_idx': 13, 'end_idx': 1...   \n",
       "19336  {'word': '마크 저커버그', 'start_idx': 26, 'end_idx'...   \n",
       "\n",
       "                           label     source  \n",
       "12461                no_relation   wikitree  \n",
       "6520         org:alternate_names  wikipedia  \n",
       "4584             per:employee_of   wikitree  \n",
       "15105              org:member_of  wikipedia  \n",
       "19336  org:top_members/employees   wikitree  "
      ]
     },
     "execution_count": 71,
     "metadata": {},
     "output_type": "execute_result"
    }
   ],
   "source": [
    "valid_dataset.head()"
   ]
  },
  {
   "cell_type": "code",
   "execution_count": 72,
   "id": "aff64965-e59b-4ce6-b40a-38d53afab954",
   "metadata": {},
   "outputs": [
    {
     "data": {
      "text/plain": [
       "no_relation                            1907\n",
       "org:top_members/employees               857\n",
       "per:employee_of                         714\n",
       "per:title                               420\n",
       "org:member_of                           373\n",
       "org:alternate_names                     264\n",
       "per:origin                              247\n",
       "org:place_of_headquarters               239\n",
       "per:date_of_birth                       226\n",
       "per:alternate_names                     200\n",
       "per:spouse                              159\n",
       "per:colleagues                          107\n",
       "per:parents                             104\n",
       "org:founded                              90\n",
       "per:date_of_death                        84\n",
       "org:members                              84\n",
       "org:product                              76\n",
       "per:children                             61\n",
       "per:place_of_residence                   39\n",
       "per:other_family                         38\n",
       "per:place_of_birth                       33\n",
       "org:founded_by                           31\n",
       "per:product                              28\n",
       "per:siblings                             27\n",
       "org:political/religious_affiliation      20\n",
       "per:religion                             19\n",
       "per:schools_attended                     16\n",
       "org:dissolved                            13\n",
       "org:number_of_employees/members          10\n",
       "per:place_of_death                        8\n",
       "Name: label, dtype: int64"
      ]
     },
     "execution_count": 72,
     "metadata": {},
     "output_type": "execute_result"
    }
   ],
   "source": [
    "valid_dataset.label.value_counts()"
   ]
  },
  {
   "cell_type": "code",
   "execution_count": 73,
   "id": "1d259af0-1894-477b-8623-a66abc88d2b3",
   "metadata": {},
   "outputs": [
    {
     "data": {
      "text/plain": [
       "no_relation                            7627\n",
       "org:top_members/employees              3427\n",
       "per:employee_of                        2859\n",
       "per:title                              1683\n",
       "org:member_of                          1493\n",
       "org:alternate_names                    1056\n",
       "per:origin                              987\n",
       "org:place_of_headquarters               956\n",
       "per:date_of_birth                       904\n",
       "per:alternate_names                     801\n",
       "per:spouse                              636\n",
       "per:colleagues                          427\n",
       "per:parents                             416\n",
       "org:founded                             360\n",
       "org:members                             336\n",
       "per:date_of_death                       334\n",
       "org:product                             304\n",
       "per:children                            243\n",
       "per:place_of_residence                  154\n",
       "per:other_family                        152\n",
       "per:place_of_birth                      133\n",
       "org:founded_by                          124\n",
       "per:product                             111\n",
       "per:siblings                            109\n",
       "org:political/religious_affiliation      78\n",
       "per:religion                             77\n",
       "per:schools_attended                     66\n",
       "org:dissolved                            53\n",
       "org:number_of_employees/members          38\n",
       "per:place_of_death                       32\n",
       "Name: label, dtype: int64"
      ]
     },
     "execution_count": 73,
     "metadata": {},
     "output_type": "execute_result"
    }
   ],
   "source": [
    "train_dataset.label.value_counts()"
   ]
  },
  {
   "cell_type": "code",
   "execution_count": 82,
   "id": "a507ce02-9431-4ac7-8361-3ffea6ae9cb7",
   "metadata": {},
   "outputs": [],
   "source": [
    "import json\n",
    "from collections import defaultdict\n",
    "\n",
    "dev_json_path = \"../../../dataset/train/klue-re.json\"\n",
    "\n",
    "def json_to_df(json_path):\n",
    "    with open(json_path) as f:\n",
    "        json_object = json.load(f)\n",
    "    data = defaultdict(list)\n",
    "    for dict in json_object:\n",
    "        for key, value in dict.items():\n",
    "            data[key].append(value) \n",
    "\n",
    "    df = pd.DataFrame(data)\n",
    "#     for key in df[\"subject_entity\"][0].keys():\n",
    "#         df[\"subject_\" + key] =  df[\"subject_entity\"].apply(lambda x : x[key])\n",
    "#         df[\"object_\" + key] =  df[\"object_entity\"].apply(lambda x : x[key])  \n",
    "\n",
    "    return df"
   ]
  },
  {
   "cell_type": "code",
   "execution_count": 83,
   "id": "c7f37928-cd57-41bd-bf24-8de1dcc00dac",
   "metadata": {},
   "outputs": [
    {
     "data": {
      "text/html": [
       "<div>\n",
       "<style scoped>\n",
       "    .dataframe tbody tr th:only-of-type {\n",
       "        vertical-align: middle;\n",
       "    }\n",
       "\n",
       "    .dataframe tbody tr th {\n",
       "        vertical-align: top;\n",
       "    }\n",
       "\n",
       "    .dataframe thead th {\n",
       "        text-align: right;\n",
       "    }\n",
       "</style>\n",
       "<table border=\"1\" class=\"dataframe\">\n",
       "  <thead>\n",
       "    <tr style=\"text-align: right;\">\n",
       "      <th></th>\n",
       "      <th>guid</th>\n",
       "      <th>sentence</th>\n",
       "      <th>subject_entity</th>\n",
       "      <th>object_entity</th>\n",
       "      <th>label</th>\n",
       "      <th>source</th>\n",
       "    </tr>\n",
       "  </thead>\n",
       "  <tbody>\n",
       "    <tr>\n",
       "      <th>0</th>\n",
       "      <td>klue-re-v1_dev_00000</td>\n",
       "      <td>20대 남성 A(26)씨가 아버지 치료비를 위해 B(30)씨가 모아둔 돈을 훔쳐 인...</td>\n",
       "      <td>{'word': 'A', 'start_idx': 7, 'end_idx': 7, 't...</td>\n",
       "      <td>{'word': '30', 'start_idx': 29, 'end_idx': 30,...</td>\n",
       "      <td>no_relation</td>\n",
       "      <td>wikitree</td>\n",
       "    </tr>\n",
       "    <tr>\n",
       "      <th>1</th>\n",
       "      <td>klue-re-v1_dev_00001</td>\n",
       "      <td>그러나 심 의원은 보좌진이 접속 권한을 받아 정부 업무추진비 사용 내역 등을 다운받...</td>\n",
       "      <td>{'word': '심 의원', 'start_idx': 4, 'end_idx': 7,...</td>\n",
       "      <td>{'word': '정부', 'start_idx': 25, 'end_idx': 26,...</td>\n",
       "      <td>no_relation</td>\n",
       "      <td>wikipedia</td>\n",
       "    </tr>\n",
       "    <tr>\n",
       "      <th>2</th>\n",
       "      <td>klue-re-v1_dev_00002</td>\n",
       "      <td>영화 《룸》에서 감금되어 살아가는 여자의 아들 '잭' 역으로 주목받으며, 크리틱스 ...</td>\n",
       "      <td>{'word': '잭', 'start_idx': 27, 'end_idx': 27, ...</td>\n",
       "      <td>{'word': '캐나다 스크린 어워드', 'start_idx': 65, 'end_...</td>\n",
       "      <td>no_relation</td>\n",
       "      <td>wikipedia</td>\n",
       "    </tr>\n",
       "    <tr>\n",
       "      <th>3</th>\n",
       "      <td>klue-re-v1_dev_00003</td>\n",
       "      <td>전라남도(도지사 김영록)는 해양수산부의 2020년 어촌뉴딜300 공모사업에 15개 ...</td>\n",
       "      <td>{'word': '해양수산부', 'start_idx': 15, 'end_idx': ...</td>\n",
       "      <td>{'word': '도지사', 'start_idx': 5, 'end_idx': 7, ...</td>\n",
       "      <td>no_relation</td>\n",
       "      <td>wikitree</td>\n",
       "    </tr>\n",
       "    <tr>\n",
       "      <th>4</th>\n",
       "      <td>klue-re-v1_dev_00004</td>\n",
       "      <td>부산항만공사(BPA, 사장 남기찬)는 27일 아동의 인권존중과 아동학대 예방에 대한...</td>\n",
       "      <td>{'word': '부산항만공사', 'start_idx': 0, 'end_idx': ...</td>\n",
       "      <td>{'word': '27일', 'start_idx': 21, 'end_idx': 23...</td>\n",
       "      <td>no_relation</td>\n",
       "      <td>wikitree</td>\n",
       "    </tr>\n",
       "  </tbody>\n",
       "</table>\n",
       "</div>"
      ],
      "text/plain": [
       "                   guid                                           sentence  \\\n",
       "0  klue-re-v1_dev_00000  20대 남성 A(26)씨가 아버지 치료비를 위해 B(30)씨가 모아둔 돈을 훔쳐 인...   \n",
       "1  klue-re-v1_dev_00001  그러나 심 의원은 보좌진이 접속 권한을 받아 정부 업무추진비 사용 내역 등을 다운받...   \n",
       "2  klue-re-v1_dev_00002  영화 《룸》에서 감금되어 살아가는 여자의 아들 '잭' 역으로 주목받으며, 크리틱스 ...   \n",
       "3  klue-re-v1_dev_00003  전라남도(도지사 김영록)는 해양수산부의 2020년 어촌뉴딜300 공모사업에 15개 ...   \n",
       "4  klue-re-v1_dev_00004  부산항만공사(BPA, 사장 남기찬)는 27일 아동의 인권존중과 아동학대 예방에 대한...   \n",
       "\n",
       "                                      subject_entity  \\\n",
       "0  {'word': 'A', 'start_idx': 7, 'end_idx': 7, 't...   \n",
       "1  {'word': '심 의원', 'start_idx': 4, 'end_idx': 7,...   \n",
       "2  {'word': '잭', 'start_idx': 27, 'end_idx': 27, ...   \n",
       "3  {'word': '해양수산부', 'start_idx': 15, 'end_idx': ...   \n",
       "4  {'word': '부산항만공사', 'start_idx': 0, 'end_idx': ...   \n",
       "\n",
       "                                       object_entity        label     source  \n",
       "0  {'word': '30', 'start_idx': 29, 'end_idx': 30,...  no_relation   wikitree  \n",
       "1  {'word': '정부', 'start_idx': 25, 'end_idx': 26,...  no_relation  wikipedia  \n",
       "2  {'word': '캐나다 스크린 어워드', 'start_idx': 65, 'end_...  no_relation  wikipedia  \n",
       "3  {'word': '도지사', 'start_idx': 5, 'end_idx': 7, ...  no_relation   wikitree  \n",
       "4  {'word': '27일', 'start_idx': 21, 'end_idx': 23...  no_relation   wikitree  "
      ]
     },
     "execution_count": 83,
     "metadata": {},
     "output_type": "execute_result"
    }
   ],
   "source": [
    "json_to_df(dev_json_path).head()"
   ]
  },
  {
   "cell_type": "code",
   "execution_count": 88,
   "id": "5c1a43a3-1712-4e44-9f60-ef016a9bff43",
   "metadata": {},
   "outputs": [
    {
     "data": {
      "text/plain": [
       "'002'"
      ]
     },
     "execution_count": 88,
     "metadata": {},
     "output_type": "execute_result"
    }
   ],
   "source": [
    "\"2\".rjust(3, \"0\")"
   ]
  },
  {
   "cell_type": "code",
   "execution_count": 92,
   "id": "1a715f18-430f-4c1b-8700-98b3101b4af7",
   "metadata": {},
   "outputs": [
    {
     "name": "stdout",
     "output_type": "stream",
     "text": [
      "test==============================================\n"
     ]
    }
   ],
   "source": [
    "#'====== ' + \"Config loading... \" + '='*10\n",
    "#'test'.rjust(5, \"=\")\n",
    "print(f'========== Config loading... '.ljust(50, \"=\"))"
   ]
  }
 ],
 "metadata": {
  "kernelspec": {
   "display_name": "Python 3 (ipykernel)",
   "language": "python",
   "name": "python3"
  },
  "language_info": {
   "codemirror_mode": {
    "name": "ipython",
    "version": 3
   },
   "file_extension": ".py",
   "mimetype": "text/x-python",
   "name": "python",
   "nbconvert_exporter": "python",
   "pygments_lexer": "ipython3",
   "version": "3.8.5"
  }
 },
 "nbformat": 4,
 "nbformat_minor": 5
}
