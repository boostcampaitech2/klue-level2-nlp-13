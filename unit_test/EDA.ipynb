{
 "cells": [
  {
   "cell_type": "markdown",
   "id": "8db311f2-a9df-4e05-b45c-f51ed8095769",
   "metadata": {},
   "source": [
    "# EDA 작업"
   ]
  },
  {
   "cell_type": "code",
   "execution_count": 50,
   "id": "1f78afc2-1962-4bf9-8a2a-b8b4378eed12",
   "metadata": {},
   "outputs": [
    {
     "ename": "ModuleNotFoundError",
     "evalue": "No module named 'matplotlib'",
     "output_type": "error",
     "traceback": [
      "\u001b[0;31m---------------------------------------------------------------------------\u001b[0m",
      "\u001b[0;31mModuleNotFoundError\u001b[0m                       Traceback (most recent call last)",
      "\u001b[0;32m<ipython-input-50-537510a25c98>\u001b[0m in \u001b[0;36m<module>\u001b[0;34m\u001b[0m\n\u001b[0;32m----> 1\u001b[0;31m \u001b[0;32mimport\u001b[0m \u001b[0mmatplotlib\u001b[0m\u001b[0;34m.\u001b[0m\u001b[0mpyplot\u001b[0m \u001b[0;32mas\u001b[0m \u001b[0mplt\u001b[0m\u001b[0;34m\u001b[0m\u001b[0;34m\u001b[0m\u001b[0m\n\u001b[0m\u001b[1;32m      2\u001b[0m \u001b[0;32mimport\u001b[0m \u001b[0mpandas\u001b[0m \u001b[0;32mas\u001b[0m \u001b[0mpd\u001b[0m\u001b[0;34m\u001b[0m\u001b[0;34m\u001b[0m\u001b[0m\n\u001b[1;32m      3\u001b[0m \u001b[0;32mimport\u001b[0m \u001b[0mnumpy\u001b[0m \u001b[0;32mas\u001b[0m \u001b[0mnp\u001b[0m\u001b[0;34m\u001b[0m\u001b[0;34m\u001b[0m\u001b[0m\n\u001b[1;32m      4\u001b[0m \u001b[0;32mimport\u001b[0m \u001b[0mos\u001b[0m\u001b[0;34m\u001b[0m\u001b[0;34m\u001b[0m\u001b[0m\n",
      "\u001b[0;31mModuleNotFoundError\u001b[0m: No module named 'matplotlib'"
     ]
    }
   ],
   "source": [
    "import matplotlib.pyplot as plt\n",
    "import pandas as pd\n",
    "import numpy as np\n",
    "import os"
   ]
  },
  {
   "cell_type": "code",
   "execution_count": 24,
   "id": "b5db2a1f-0c3a-4c30-8c04-18d525f31bc8",
   "metadata": {},
   "outputs": [
    {
     "data": {
      "text/html": [
       "<div>\n",
       "<style scoped>\n",
       "    .dataframe tbody tr th:only-of-type {\n",
       "        vertical-align: middle;\n",
       "    }\n",
       "\n",
       "    .dataframe tbody tr th {\n",
       "        vertical-align: top;\n",
       "    }\n",
       "\n",
       "    .dataframe thead th {\n",
       "        text-align: right;\n",
       "    }\n",
       "</style>\n",
       "<table border=\"1\" class=\"dataframe\">\n",
       "  <thead>\n",
       "    <tr style=\"text-align: right;\">\n",
       "      <th></th>\n",
       "      <th>id</th>\n",
       "      <th>sentence</th>\n",
       "      <th>subject_entity</th>\n",
       "      <th>object_entity</th>\n",
       "      <th>label</th>\n",
       "      <th>source</th>\n",
       "    </tr>\n",
       "  </thead>\n",
       "  <tbody>\n",
       "    <tr>\n",
       "      <th>0</th>\n",
       "      <td>0</td>\n",
       "      <td>〈Something〉는 조지 해리슨이 쓰고 비틀즈가 1969년 앨범 《Abbey R...</td>\n",
       "      <td>{'word': '비틀즈', 'start_idx': 24, 'end_idx': 26...</td>\n",
       "      <td>{'word': '조지 해리슨', 'start_idx': 13, 'end_idx':...</td>\n",
       "      <td>no_relation</td>\n",
       "      <td>wikipedia</td>\n",
       "    </tr>\n",
       "    <tr>\n",
       "      <th>1</th>\n",
       "      <td>1</td>\n",
       "      <td>호남이 기반인 바른미래당·대안신당·민주평화당이 우여곡절 끝에 합당해 민생당(가칭)으...</td>\n",
       "      <td>{'word': '민주평화당', 'start_idx': 19, 'end_idx': ...</td>\n",
       "      <td>{'word': '대안신당', 'start_idx': 14, 'end_idx': 1...</td>\n",
       "      <td>no_relation</td>\n",
       "      <td>wikitree</td>\n",
       "    </tr>\n",
       "    <tr>\n",
       "      <th>2</th>\n",
       "      <td>2</td>\n",
       "      <td>K리그2에서 성적 1위를 달리고 있는 광주FC는 지난 26일 한국프로축구연맹으로부터...</td>\n",
       "      <td>{'word': '광주FC', 'start_idx': 21, 'end_idx': 2...</td>\n",
       "      <td>{'word': '한국프로축구연맹', 'start_idx': 34, 'end_idx...</td>\n",
       "      <td>org:member_of</td>\n",
       "      <td>wikitree</td>\n",
       "    </tr>\n",
       "    <tr>\n",
       "      <th>3</th>\n",
       "      <td>3</td>\n",
       "      <td>균일가 생활용품점 (주)아성다이소(대표 박정부)는 코로나19 바이러스로 어려움을 겪...</td>\n",
       "      <td>{'word': '아성다이소', 'start_idx': 13, 'end_idx': ...</td>\n",
       "      <td>{'word': '박정부', 'start_idx': 22, 'end_idx': 24...</td>\n",
       "      <td>org:top_members/employees</td>\n",
       "      <td>wikitree</td>\n",
       "    </tr>\n",
       "    <tr>\n",
       "      <th>4</th>\n",
       "      <td>4</td>\n",
       "      <td>1967년 프로 야구 드래프트 1순위로 요미우리 자이언츠에게 입단하면서 등번호는 8...</td>\n",
       "      <td>{'word': '요미우리 자이언츠', 'start_idx': 22, 'end_id...</td>\n",
       "      <td>{'word': '1967', 'start_idx': 0, 'end_idx': 3,...</td>\n",
       "      <td>no_relation</td>\n",
       "      <td>wikipedia</td>\n",
       "    </tr>\n",
       "  </tbody>\n",
       "</table>\n",
       "</div>"
      ],
      "text/plain": [
       "   id                                           sentence  \\\n",
       "0   0  〈Something〉는 조지 해리슨이 쓰고 비틀즈가 1969년 앨범 《Abbey R...   \n",
       "1   1  호남이 기반인 바른미래당·대안신당·민주평화당이 우여곡절 끝에 합당해 민생당(가칭)으...   \n",
       "2   2  K리그2에서 성적 1위를 달리고 있는 광주FC는 지난 26일 한국프로축구연맹으로부터...   \n",
       "3   3  균일가 생활용품점 (주)아성다이소(대표 박정부)는 코로나19 바이러스로 어려움을 겪...   \n",
       "4   4  1967년 프로 야구 드래프트 1순위로 요미우리 자이언츠에게 입단하면서 등번호는 8...   \n",
       "\n",
       "                                      subject_entity  \\\n",
       "0  {'word': '비틀즈', 'start_idx': 24, 'end_idx': 26...   \n",
       "1  {'word': '민주평화당', 'start_idx': 19, 'end_idx': ...   \n",
       "2  {'word': '광주FC', 'start_idx': 21, 'end_idx': 2...   \n",
       "3  {'word': '아성다이소', 'start_idx': 13, 'end_idx': ...   \n",
       "4  {'word': '요미우리 자이언츠', 'start_idx': 22, 'end_id...   \n",
       "\n",
       "                                       object_entity  \\\n",
       "0  {'word': '조지 해리슨', 'start_idx': 13, 'end_idx':...   \n",
       "1  {'word': '대안신당', 'start_idx': 14, 'end_idx': 1...   \n",
       "2  {'word': '한국프로축구연맹', 'start_idx': 34, 'end_idx...   \n",
       "3  {'word': '박정부', 'start_idx': 22, 'end_idx': 24...   \n",
       "4  {'word': '1967', 'start_idx': 0, 'end_idx': 3,...   \n",
       "\n",
       "                       label     source  \n",
       "0                no_relation  wikipedia  \n",
       "1                no_relation   wikitree  \n",
       "2              org:member_of   wikitree  \n",
       "3  org:top_members/employees   wikitree  \n",
       "4                no_relation  wikipedia  "
      ]
     },
     "execution_count": 24,
     "metadata": {},
     "output_type": "execute_result"
    }
   ],
   "source": [
    "dataset = pd.read_csv('../../../dataset/train/train.csv')\n",
    "dataset.head()"
   ]
  },
  {
   "cell_type": "markdown",
   "id": "a1efcac1-9ba3-4d2e-9991-ed2b54c1a546",
   "metadata": {},
   "source": [
    "우선 subject_entity와 object_entity의 json 형태의 데이터를 분리해서 확인하자"
   ]
  },
  {
   "cell_type": "code",
   "execution_count": 25,
   "id": "b3bc5837-52e5-42c4-97ce-580bf57d81d4",
   "metadata": {},
   "outputs": [
    {
     "data": {
      "text/plain": [
       "\"{'word': '비틀즈', 'start_idx': 24, 'end_idx': 26, 'type': 'ORG'}\""
      ]
     },
     "execution_count": 25,
     "metadata": {},
     "output_type": "execute_result"
    }
   ],
   "source": [
    "dataset.subject_entity[0]"
   ]
  },
  {
   "cell_type": "code",
   "execution_count": 31,
   "id": "aa95fede-f704-4e66-90be-c11760932b09",
   "metadata": {},
   "outputs": [
    {
     "data": {
      "text/plain": [
       "\"{'word': '조지 해리슨', 'start_idx': 13, 'end_idx': 18, 'type': 'PER'}\""
      ]
     },
     "execution_count": 31,
     "metadata": {},
     "output_type": "execute_result"
    }
   ],
   "source": [
    "dataset.object_entity[0]"
   ]
  },
  {
   "cell_type": "code",
   "execution_count": 32,
   "id": "5b39de74-396e-47c1-8867-11a7bd535176",
   "metadata": {},
   "outputs": [],
   "source": [
    "subject_word, subject_idx, subject_type = [], [], []\n",
    "object_word, object_idx, object_type = [], [], []\n",
    "\n",
    "for subject_entity, object_entity in zip(dataset['subject_entity'], dataset['object_entity']):\n",
    "    subject_dict = eval(subject_entity)\n",
    "    object_dict = eval(object_entity)\n",
    "    \n",
    "    subject_word.append(subject_dict['word'])\n",
    "    subject_idx.append((subject_dict['start_idx'], subject_dict['end_idx']))\n",
    "    subject_type.append(subject_dict['type'])\n",
    "    object_word.append(object_dict['word'])\n",
    "    object_idx.append((object_dict['start_idx'], object_dict['end_idx']))\n",
    "    object_type.append(object_dict['type'])\n"
   ]
  },
  {
   "cell_type": "code",
   "execution_count": 33,
   "id": "e796498c-219d-4ae4-8b23-4fad543c842a",
   "metadata": {},
   "outputs": [],
   "source": [
    "out_dataset = pd.DataFrame({\n",
    "    'id': dataset['id'], \n",
    "    'sentence': dataset['sentence'],\n",
    "    'subject_word': subject_word,\n",
    "    'subject_idx': subject_idx,\n",
    "    'subject_type': subject_type,\n",
    "    'object_word': object_word,\n",
    "    'object_idx': object_idx,\n",
    "    'object_type': object_type,\n",
    "    'label': dataset['label'],\n",
    "    'source': dataset['source']\n",
    "})"
   ]
  },
  {
   "cell_type": "code",
   "execution_count": 34,
   "id": "eca07208-e44c-4f29-a1f1-14c2d709b076",
   "metadata": {},
   "outputs": [
    {
     "data": {
      "text/html": [
       "<div>\n",
       "<style scoped>\n",
       "    .dataframe tbody tr th:only-of-type {\n",
       "        vertical-align: middle;\n",
       "    }\n",
       "\n",
       "    .dataframe tbody tr th {\n",
       "        vertical-align: top;\n",
       "    }\n",
       "\n",
       "    .dataframe thead th {\n",
       "        text-align: right;\n",
       "    }\n",
       "</style>\n",
       "<table border=\"1\" class=\"dataframe\">\n",
       "  <thead>\n",
       "    <tr style=\"text-align: right;\">\n",
       "      <th></th>\n",
       "      <th>id</th>\n",
       "      <th>sentence</th>\n",
       "      <th>subject_word</th>\n",
       "      <th>subject_idx</th>\n",
       "      <th>subject_type</th>\n",
       "      <th>object_word</th>\n",
       "      <th>object_idx</th>\n",
       "      <th>object_type</th>\n",
       "      <th>label</th>\n",
       "      <th>source</th>\n",
       "    </tr>\n",
       "  </thead>\n",
       "  <tbody>\n",
       "    <tr>\n",
       "      <th>0</th>\n",
       "      <td>0</td>\n",
       "      <td>〈Something〉는 조지 해리슨이 쓰고 비틀즈가 1969년 앨범 《Abbey R...</td>\n",
       "      <td>비틀즈</td>\n",
       "      <td>(24, 26)</td>\n",
       "      <td>ORG</td>\n",
       "      <td>조지 해리슨</td>\n",
       "      <td>(13, 18)</td>\n",
       "      <td>PER</td>\n",
       "      <td>no_relation</td>\n",
       "      <td>wikipedia</td>\n",
       "    </tr>\n",
       "    <tr>\n",
       "      <th>1</th>\n",
       "      <td>1</td>\n",
       "      <td>호남이 기반인 바른미래당·대안신당·민주평화당이 우여곡절 끝에 합당해 민생당(가칭)으...</td>\n",
       "      <td>민주평화당</td>\n",
       "      <td>(19, 23)</td>\n",
       "      <td>ORG</td>\n",
       "      <td>대안신당</td>\n",
       "      <td>(14, 17)</td>\n",
       "      <td>ORG</td>\n",
       "      <td>no_relation</td>\n",
       "      <td>wikitree</td>\n",
       "    </tr>\n",
       "    <tr>\n",
       "      <th>2</th>\n",
       "      <td>2</td>\n",
       "      <td>K리그2에서 성적 1위를 달리고 있는 광주FC는 지난 26일 한국프로축구연맹으로부터...</td>\n",
       "      <td>광주FC</td>\n",
       "      <td>(21, 24)</td>\n",
       "      <td>ORG</td>\n",
       "      <td>한국프로축구연맹</td>\n",
       "      <td>(34, 41)</td>\n",
       "      <td>ORG</td>\n",
       "      <td>org:member_of</td>\n",
       "      <td>wikitree</td>\n",
       "    </tr>\n",
       "    <tr>\n",
       "      <th>3</th>\n",
       "      <td>3</td>\n",
       "      <td>균일가 생활용품점 (주)아성다이소(대표 박정부)는 코로나19 바이러스로 어려움을 겪...</td>\n",
       "      <td>아성다이소</td>\n",
       "      <td>(13, 17)</td>\n",
       "      <td>ORG</td>\n",
       "      <td>박정부</td>\n",
       "      <td>(22, 24)</td>\n",
       "      <td>PER</td>\n",
       "      <td>org:top_members/employees</td>\n",
       "      <td>wikitree</td>\n",
       "    </tr>\n",
       "    <tr>\n",
       "      <th>4</th>\n",
       "      <td>4</td>\n",
       "      <td>1967년 프로 야구 드래프트 1순위로 요미우리 자이언츠에게 입단하면서 등번호는 8...</td>\n",
       "      <td>요미우리 자이언츠</td>\n",
       "      <td>(22, 30)</td>\n",
       "      <td>ORG</td>\n",
       "      <td>1967</td>\n",
       "      <td>(0, 3)</td>\n",
       "      <td>DAT</td>\n",
       "      <td>no_relation</td>\n",
       "      <td>wikipedia</td>\n",
       "    </tr>\n",
       "  </tbody>\n",
       "</table>\n",
       "</div>"
      ],
      "text/plain": [
       "   id                                           sentence subject_word  \\\n",
       "0   0  〈Something〉는 조지 해리슨이 쓰고 비틀즈가 1969년 앨범 《Abbey R...          비틀즈   \n",
       "1   1  호남이 기반인 바른미래당·대안신당·민주평화당이 우여곡절 끝에 합당해 민생당(가칭)으...        민주평화당   \n",
       "2   2  K리그2에서 성적 1위를 달리고 있는 광주FC는 지난 26일 한국프로축구연맹으로부터...         광주FC   \n",
       "3   3  균일가 생활용품점 (주)아성다이소(대표 박정부)는 코로나19 바이러스로 어려움을 겪...        아성다이소   \n",
       "4   4  1967년 프로 야구 드래프트 1순위로 요미우리 자이언츠에게 입단하면서 등번호는 8...    요미우리 자이언츠   \n",
       "\n",
       "  subject_idx subject_type object_word object_idx object_type  \\\n",
       "0    (24, 26)          ORG      조지 해리슨   (13, 18)         PER   \n",
       "1    (19, 23)          ORG        대안신당   (14, 17)         ORG   \n",
       "2    (21, 24)          ORG    한국프로축구연맹   (34, 41)         ORG   \n",
       "3    (13, 17)          ORG         박정부   (22, 24)         PER   \n",
       "4    (22, 30)          ORG        1967     (0, 3)         DAT   \n",
       "\n",
       "                       label     source  \n",
       "0                no_relation  wikipedia  \n",
       "1                no_relation   wikitree  \n",
       "2              org:member_of   wikitree  \n",
       "3  org:top_members/employees   wikitree  \n",
       "4                no_relation  wikipedia  "
      ]
     },
     "execution_count": 34,
     "metadata": {},
     "output_type": "execute_result"
    }
   ],
   "source": [
    "out_dataset.head()"
   ]
  },
  {
   "cell_type": "markdown",
   "id": "37225732-9506-44cd-9047-f44a86fbe7e2",
   "metadata": {},
   "source": [
    "label의 갯수나 sentence 등에 대한 정보를 정리한다."
   ]
  },
  {
   "cell_type": "markdown",
   "id": "86202da3-0da2-46c4-b832-f1195fa95642",
   "metadata": {},
   "source": [
    "### label 분포 확인"
   ]
  },
  {
   "cell_type": "code",
   "execution_count": 36,
   "id": "af1797e9-7b99-4cec-a9e6-fa2b536510c7",
   "metadata": {},
   "outputs": [
    {
     "data": {
      "text/plain": [
       "no_relation                            9534\n",
       "org:top_members/employees              4284\n",
       "per:employee_of                        3573\n",
       "per:title                              2103\n",
       "org:member_of                          1866\n",
       "org:alternate_names                    1320\n",
       "per:origin                             1234\n",
       "org:place_of_headquarters              1195\n",
       "per:date_of_birth                      1130\n",
       "per:alternate_names                    1001\n",
       "per:spouse                              795\n",
       "per:colleagues                          534\n",
       "per:parents                             520\n",
       "org:founded                             450\n",
       "org:members                             420\n",
       "per:date_of_death                       418\n",
       "org:product                             380\n",
       "per:children                            304\n",
       "per:place_of_residence                  193\n",
       "per:other_family                        190\n",
       "per:place_of_birth                      166\n",
       "org:founded_by                          155\n",
       "per:product                             139\n",
       "per:siblings                            136\n",
       "org:political/religious_affiliation      98\n",
       "per:religion                             96\n",
       "per:schools_attended                     82\n",
       "org:dissolved                            66\n",
       "org:number_of_employees/members          48\n",
       "per:place_of_death                       40\n",
       "Name: label, dtype: int64"
      ]
     },
     "execution_count": 36,
     "metadata": {},
     "output_type": "execute_result"
    }
   ],
   "source": [
    "out_dataset.label.value_counts()"
   ]
  },
  {
   "cell_type": "code",
   "execution_count": 55,
   "id": "9fa4d2ff-defe-4fbb-95de-9c1c57eb78dc",
   "metadata": {},
   "outputs": [
    {
     "data": {
      "text/plain": [
       "<AxesSubplot:>"
      ]
     },
     "execution_count": 55,
     "metadata": {},
     "output_type": "execute_result"
    },
    {
     "data": {
      "image/png": "[encoded data removed]",
      "text/plain": [
       "<Figure size 432x288 with 1 Axes>"
      ]
     },
     "metadata": {
      "needs_background": "light"
     },
     "output_type": "display_data"
    }
   ],
   "source": [
    "import matplotlib.pyplot as plt\n",
    "%matplotlib inline\n",
    "\n",
    "out_dataset.label.value_counts().plot(kind=\"bar\")"
   ]
  },
  {
   "cell_type": "markdown",
   "id": "68c0e1d4-2878-4373-939f-41cd8f0b09f4",
   "metadata": {},
   "source": [
    "보다시피 데이터의 불균형이 엄청 심한 것을 확인할 수 있다.  \n",
    "no_relation data를 줄이고 다른 class들의 데이터를 증강하는 방법에 대해서 고민해봐야할 것 같다."
   ]
  },
  {
   "cell_type": "code",
   "execution_count": 56,
   "id": "43e3eaa4-4097-41e2-9777-773fad80cb3d",
   "metadata": {},
   "outputs": [
    {
     "data": {
      "text/plain": [
       "<AxesSubplot:>"
      ]
     },
     "execution_count": 56,
     "metadata": {},
     "output_type": "execute_result"
    },
    {
     "data": {
      "image/png": "[encoded data removed]",
      "text/plain": [
       "<Figure size 432x288 with 1 Axes>"
      ]
     },
     "metadata": {
      "needs_background": "light"
     },
     "output_type": "display_data"
    }
   ],
   "source": [
    "out_dataset.subject_type.value_counts().plot(kind=\"bar\")"
   ]
  },
  {
   "cell_type": "code",
   "execution_count": 57,
   "id": "1adcc63a-596b-4552-847d-70ac4bfcee56",
   "metadata": {},
   "outputs": [
    {
     "data": {
      "text/plain": [
       "<AxesSubplot:>"
      ]
     },
     "execution_count": 57,
     "metadata": {},
     "output_type": "execute_result"
    },
    {
     "data": {
      "image/png": "[encoded data removed]",
      "text/plain": [
       "<Figure size 432x288 with 1 Axes>"
      ]
     },
     "metadata": {
      "needs_background": "light"
     },
     "output_type": "display_data"
    }
   ],
   "source": [
    "out_dataset.object_type.value_counts().plot(kind=\"bar\")"
   ]
  },
  {
   "cell_type": "markdown",
   "id": "2cc1b326-987e-48ec-aedf-940d68461686",
   "metadata": {},
   "source": [
    "PER = 인명  \n",
    "ORG = 기관명  \n",
    "POH = 기타 (title 과 비슷한 느낌)  \n",
    "DAT = 날짜  \n",
    "LOC = 지명  \n",
    "NOH = 기타 수량표현  "
   ]
  },
  {
   "cell_type": "markdown",
   "id": "1a8ca147-87f1-455e-863b-063ef46c4f31",
   "metadata": {},
   "source": [
    "[organization]  \n",
    "org:dissolved                       : 지정된 조직이 해산된 날짜  \n",
    "org:founded                         : 지정된 조직이 설립된 날짜  \n",
    "org:place_of_headqueaters           : 지정된 조직의 본부가 있는 장소(본사위치)  \n",
    "org:alternate_names                 : 지정된 조직을 참조하기 위해 사무실 이름 대신 호출되는 대체 이름  \n",
    "org:member_of                       : 지정된 조직이 속한 조직  \n",
    "org:members                         : 지정된 조직에 속한 조직  \n",
    "org:political/religious_affiliation : 지정된 조직이 소속된 정치/종교 단체  \n",
    "org:product                         : 특정 조직에서 생산한 제품 또는 상품  \n",
    "org:founded_by                      : 특정 조직을 설립한 사람 또는 조직  \n",
    "org:top_members/employees           : 지정된 조직의 대표 또는 구성원  \n",
    "org:number_of_employees/members     : 지정된 조직에 소속된 총 구성원 수  \n",
    "-----------------------------------------------------------------------  \n",
    "[person]  \n",
    "per:date_of_birth     : 지정된 사람이 태어난 날짜  \n",
    "per:date_of_death     : 지정된 사람이 사망한 날짜  \n",
    "per:place_of_birth    : 특정인이 사망한 날짜  \n",
    "per:place_of_death    : 특정인이 사망한 장소  \n",
    "per:place_of_residence: 지정된 사람이 사는 곳  \n",
    "per:origin            : 특정인의 출신 또는 국적  \n",
    "per:employee_of       : 지정된 사람이 일하는 조직  \n",
    "per:schools_attended  : 지정된 사람이 다녔던 학교  \n",
    "per:alternate_names   : 지정된 사람을 지칭하기 위해 공식 이름 대신에 부르는 대체 이름  \n",
    "per:parents           : 지정된 사람의 부모  \n",
    "per:children          : 지정된 사람의 자녀  \n",
    "per:siblings          : 특정인의 형제자매  \n",
    "per:spouse            : 특정인의 배우자  \n",
    "per:other_family      : 부모, 자녀, 형제자매 및 배우자를 제외한 특정인의 가족  \n",
    "per:colleagues        : 지정된 사람과 함께 일하는 사람들  \n",
    "per:product           : 특정인이 제작한 제품 또는 작품  \n",
    "per:religion          : 특정인이 믿는 종교  \n",
    "per:title             : 특정인의 직위를 나타내는 공식 또는 비공식 이름  "
   ]
  },
  {
   "cell_type": "code",
   "execution_count": 64,
   "id": "1f1cdad1-87a5-43a2-ac89-0a74df2d1a13",
   "metadata": {},
   "outputs": [
    {
     "data": {
      "text/html": [
       "<div>\n",
       "<style scoped>\n",
       "    .dataframe tbody tr th:only-of-type {\n",
       "        vertical-align: middle;\n",
       "    }\n",
       "\n",
       "    .dataframe tbody tr th {\n",
       "        vertical-align: top;\n",
       "    }\n",
       "\n",
       "    .dataframe thead th {\n",
       "        text-align: right;\n",
       "    }\n",
       "</style>\n",
       "<table border=\"1\" class=\"dataframe\">\n",
       "  <thead>\n",
       "    <tr style=\"text-align: right;\">\n",
       "      <th></th>\n",
       "      <th>id</th>\n",
       "      <th>sentence</th>\n",
       "      <th>subject_word</th>\n",
       "      <th>subject_idx</th>\n",
       "      <th>subject_type</th>\n",
       "      <th>object_word</th>\n",
       "      <th>object_idx</th>\n",
       "      <th>object_type</th>\n",
       "      <th>label</th>\n",
       "      <th>source</th>\n",
       "    </tr>\n",
       "  </thead>\n",
       "  <tbody>\n",
       "    <tr>\n",
       "      <th>11</th>\n",
       "      <td>11</td>\n",
       "      <td>이른바 'Z세대'로 불리는 1990년대 중반 이후 태어난 세대에게 대표 아이콘으로 ...</td>\n",
       "      <td>빌리 아일리시</td>\n",
       "      <td>(60, 66)</td>\n",
       "      <td>PER</td>\n",
       "      <td>싱어송라이터</td>\n",
       "      <td>(53, 58)</td>\n",
       "      <td>POH</td>\n",
       "      <td>per:title</td>\n",
       "      <td>wikitree</td>\n",
       "    </tr>\n",
       "    <tr>\n",
       "      <th>24</th>\n",
       "      <td>24</td>\n",
       "      <td>FA로 친정 팀에 돌아온 중견수 이택근과 1루수로 정착한 박병호와 함께 클린업 트리...</td>\n",
       "      <td>박병호</td>\n",
       "      <td>(32, 34)</td>\n",
       "      <td>PER</td>\n",
       "      <td>1루수</td>\n",
       "      <td>(23, 25)</td>\n",
       "      <td>POH</td>\n",
       "      <td>per:title</td>\n",
       "      <td>wikipedia</td>\n",
       "    </tr>\n",
       "    <tr>\n",
       "      <th>30</th>\n",
       "      <td>30</td>\n",
       "      <td>미국 정부는 1942년 2월 24일 전 세계의 청취자를 대상으로 태평양 전쟁의 전쟁...</td>\n",
       "      <td>미국의 소리</td>\n",
       "      <td>(61, 66)</td>\n",
       "      <td>ORG</td>\n",
       "      <td>Voice of America</td>\n",
       "      <td>(73, 88)</td>\n",
       "      <td>POH</td>\n",
       "      <td>org:alternate_names</td>\n",
       "      <td>wikipedia</td>\n",
       "    </tr>\n",
       "    <tr>\n",
       "      <th>38</th>\n",
       "      <td>38</td>\n",
       "      <td>광주국악상설공연이 세계수영선수권대회 기간동안 연이어 매진을 기록하며 광주 대표 문화...</td>\n",
       "      <td>박애리</td>\n",
       "      <td>(74, 76)</td>\n",
       "      <td>PER</td>\n",
       "      <td>국악인</td>\n",
       "      <td>(70, 72)</td>\n",
       "      <td>POH</td>\n",
       "      <td>per:title</td>\n",
       "      <td>wikitree</td>\n",
       "    </tr>\n",
       "    <tr>\n",
       "      <th>41</th>\n",
       "      <td>41</td>\n",
       "      <td>이 캐릭터가 작가 스탠 리와 만화가 잭 커비가 만든 \"\" 에서 캡틴 아메리카의 전쟁...</td>\n",
       "      <td>스탠 리</td>\n",
       "      <td>(10, 13)</td>\n",
       "      <td>PER</td>\n",
       "      <td>만화가</td>\n",
       "      <td>(16, 18)</td>\n",
       "      <td>POH</td>\n",
       "      <td>no_relation</td>\n",
       "      <td>wikipedia</td>\n",
       "    </tr>\n",
       "    <tr>\n",
       "      <th>...</th>\n",
       "      <td>...</td>\n",
       "      <td>...</td>\n",
       "      <td>...</td>\n",
       "      <td>...</td>\n",
       "      <td>...</td>\n",
       "      <td>...</td>\n",
       "      <td>...</td>\n",
       "      <td>...</td>\n",
       "      <td>...</td>\n",
       "      <td>...</td>\n",
       "    </tr>\n",
       "    <tr>\n",
       "      <th>32444</th>\n",
       "      <td>32444</td>\n",
       "      <td>10월 28일에 은퇴 관련 기자회견을 하였으며, 11월 1일 전주에서 열린 대구 F...</td>\n",
       "      <td>대구 FC</td>\n",
       "      <td>(42, 46)</td>\n",
       "      <td>ORG</td>\n",
       "      <td>K리그1</td>\n",
       "      <td>(50, 53)</td>\n",
       "      <td>POH</td>\n",
       "      <td>org:member_of</td>\n",
       "      <td>wikipedia</td>\n",
       "    </tr>\n",
       "    <tr>\n",
       "      <th>32446</th>\n",
       "      <td>32446</td>\n",
       "      <td>8월 2일에는 이정모 서울시립과학관 관장 ‘알바트로스’를 주제로, 9일에는 금정연 ...</td>\n",
       "      <td>이정모</td>\n",
       "      <td>(8, 10)</td>\n",
       "      <td>PER</td>\n",
       "      <td>서울시립과학관 관장</td>\n",
       "      <td>(12, 21)</td>\n",
       "      <td>POH</td>\n",
       "      <td>per:title</td>\n",
       "      <td>wikitree</td>\n",
       "    </tr>\n",
       "    <tr>\n",
       "      <th>32458</th>\n",
       "      <td>32458</td>\n",
       "      <td>대학 졸업 직후, 그는 '스티어 프라이데이 나이트(Stir Friday Night)...</td>\n",
       "      <td>스티어 프라이데이 나이트</td>\n",
       "      <td>(14, 26)</td>\n",
       "      <td>ORG</td>\n",
       "      <td>Stir Friday Night</td>\n",
       "      <td>(28, 44)</td>\n",
       "      <td>POH</td>\n",
       "      <td>org:alternate_names</td>\n",
       "      <td>wikipedia</td>\n",
       "    </tr>\n",
       "    <tr>\n",
       "      <th>32462</th>\n",
       "      <td>32462</td>\n",
       "      <td>심지어 전용 연습구장도 없어 훈련을 여러 지역을 돌아다니며 해야 할 정도로 팀 사정...</td>\n",
       "      <td>방승환</td>\n",
       "      <td>(85, 87)</td>\n",
       "      <td>PER</td>\n",
       "      <td>공격수</td>\n",
       "      <td>(94, 96)</td>\n",
       "      <td>POH</td>\n",
       "      <td>no_relation</td>\n",
       "      <td>wikipedia</td>\n",
       "    </tr>\n",
       "    <tr>\n",
       "      <th>32464</th>\n",
       "      <td>32464</td>\n",
       "      <td>KIA타이거즈 외야수 이창진이 롯데백화점 광주점이 시상하는 9월 월간 MVP에 선정...</td>\n",
       "      <td>이창진</td>\n",
       "      <td>(12, 14)</td>\n",
       "      <td>PER</td>\n",
       "      <td>외야수</td>\n",
       "      <td>(8, 10)</td>\n",
       "      <td>POH</td>\n",
       "      <td>per:title</td>\n",
       "      <td>wikitree</td>\n",
       "    </tr>\n",
       "  </tbody>\n",
       "</table>\n",
       "<p>5113 rows × 10 columns</p>\n",
       "</div>"
      ],
      "text/plain": [
       "          id                                           sentence  \\\n",
       "11        11  이른바 'Z세대'로 불리는 1990년대 중반 이후 태어난 세대에게 대표 아이콘으로 ...   \n",
       "24        24  FA로 친정 팀에 돌아온 중견수 이택근과 1루수로 정착한 박병호와 함께 클린업 트리...   \n",
       "30        30  미국 정부는 1942년 2월 24일 전 세계의 청취자를 대상으로 태평양 전쟁의 전쟁...   \n",
       "38        38  광주국악상설공연이 세계수영선수권대회 기간동안 연이어 매진을 기록하며 광주 대표 문화...   \n",
       "41        41  이 캐릭터가 작가 스탠 리와 만화가 잭 커비가 만든 \"\" 에서 캡틴 아메리카의 전쟁...   \n",
       "...      ...                                                ...   \n",
       "32444  32444  10월 28일에 은퇴 관련 기자회견을 하였으며, 11월 1일 전주에서 열린 대구 F...   \n",
       "32446  32446  8월 2일에는 이정모 서울시립과학관 관장 ‘알바트로스’를 주제로, 9일에는 금정연 ...   \n",
       "32458  32458  대학 졸업 직후, 그는 '스티어 프라이데이 나이트(Stir Friday Night)...   \n",
       "32462  32462  심지어 전용 연습구장도 없어 훈련을 여러 지역을 돌아다니며 해야 할 정도로 팀 사정...   \n",
       "32464  32464  KIA타이거즈 외야수 이창진이 롯데백화점 광주점이 시상하는 9월 월간 MVP에 선정...   \n",
       "\n",
       "        subject_word subject_idx subject_type        object_word object_idx  \\\n",
       "11           빌리 아일리시    (60, 66)          PER             싱어송라이터   (53, 58)   \n",
       "24               박병호    (32, 34)          PER                1루수   (23, 25)   \n",
       "30            미국의 소리    (61, 66)          ORG   Voice of America   (73, 88)   \n",
       "38               박애리    (74, 76)          PER                국악인   (70, 72)   \n",
       "41              스탠 리    (10, 13)          PER                만화가   (16, 18)   \n",
       "...              ...         ...          ...                ...        ...   \n",
       "32444          대구 FC    (42, 46)          ORG               K리그1   (50, 53)   \n",
       "32446            이정모     (8, 10)          PER         서울시립과학관 관장   (12, 21)   \n",
       "32458  스티어 프라이데이 나이트    (14, 26)          ORG  Stir Friday Night   (28, 44)   \n",
       "32462            방승환    (85, 87)          PER                공격수   (94, 96)   \n",
       "32464            이창진    (12, 14)          PER                외야수    (8, 10)   \n",
       "\n",
       "      object_type                label     source  \n",
       "11            POH            per:title   wikitree  \n",
       "24            POH            per:title  wikipedia  \n",
       "30            POH  org:alternate_names  wikipedia  \n",
       "38            POH            per:title   wikitree  \n",
       "41            POH          no_relation  wikipedia  \n",
       "...           ...                  ...        ...  \n",
       "32444         POH        org:member_of  wikipedia  \n",
       "32446         POH            per:title   wikitree  \n",
       "32458         POH  org:alternate_names  wikipedia  \n",
       "32462         POH          no_relation  wikipedia  \n",
       "32464         POH            per:title   wikitree  \n",
       "\n",
       "[5113 rows x 10 columns]"
      ]
     },
     "execution_count": 64,
     "metadata": {},
     "output_type": "execute_result"
    }
   ],
   "source": [
    "out_dataset[out_dataset.object_type == 'POH']"
   ]
  },
  {
   "cell_type": "markdown",
   "id": "39123d7d-8f2c-4568-9ed9-926c5724b218",
   "metadata": {},
   "source": [
    "NOH가 뭐길래 저렇게 데이터가 조금 있는지 살펴보자"
   ]
  },
  {
   "cell_type": "code",
   "execution_count": 62,
   "id": "1470f1ce-20af-423f-987e-d94198ec6183",
   "metadata": {},
   "outputs": [
    {
     "data": {
      "text/html": [
       "<div>\n",
       "<style scoped>\n",
       "    .dataframe tbody tr th:only-of-type {\n",
       "        vertical-align: middle;\n",
       "    }\n",
       "\n",
       "    .dataframe tbody tr th {\n",
       "        vertical-align: top;\n",
       "    }\n",
       "\n",
       "    .dataframe thead th {\n",
       "        text-align: right;\n",
       "    }\n",
       "</style>\n",
       "<table border=\"1\" class=\"dataframe\">\n",
       "  <thead>\n",
       "    <tr style=\"text-align: right;\">\n",
       "      <th></th>\n",
       "      <th>id</th>\n",
       "      <th>sentence</th>\n",
       "      <th>subject_word</th>\n",
       "      <th>subject_idx</th>\n",
       "      <th>subject_type</th>\n",
       "      <th>object_word</th>\n",
       "      <th>object_idx</th>\n",
       "      <th>object_type</th>\n",
       "      <th>label</th>\n",
       "      <th>source</th>\n",
       "    </tr>\n",
       "  </thead>\n",
       "  <tbody>\n",
       "    <tr>\n",
       "      <th>72</th>\n",
       "      <td>72</td>\n",
       "      <td>냉전 동안 독일 연방군은 NATO의 서유럽 방위의 주력군이 되었으며 전군을 통틀어 ...</td>\n",
       "      <td>독일 연방군</td>\n",
       "      <td>(6, 11)</td>\n",
       "      <td>ORG</td>\n",
       "      <td>49만 5,000명</td>\n",
       "      <td>(46, 55)</td>\n",
       "      <td>NOH</td>\n",
       "      <td>org:number_of_employees/members</td>\n",
       "      <td>wikipedia</td>\n",
       "    </tr>\n",
       "    <tr>\n",
       "      <th>107</th>\n",
       "      <td>107</td>\n",
       "      <td>고양시청 종합상황실에서는 연휴기간동안 09:00 ~ 18:00까지 민원콜센터(031...</td>\n",
       "      <td>고양시</td>\n",
       "      <td>(0, 2)</td>\n",
       "      <td>ORG</td>\n",
       "      <td>031-909-9000</td>\n",
       "      <td>(43, 54)</td>\n",
       "      <td>NOH</td>\n",
       "      <td>no_relation</td>\n",
       "      <td>wikitree</td>\n",
       "    </tr>\n",
       "    <tr>\n",
       "      <th>109</th>\n",
       "      <td>109</td>\n",
       "      <td>당시 김신영 씨는 \"현재 48kg이다. 골반은 조금 더 작아졌지만 크게 달라진 건 ...</td>\n",
       "      <td>김신영</td>\n",
       "      <td>(3, 5)</td>\n",
       "      <td>PER</td>\n",
       "      <td>48kg</td>\n",
       "      <td>(14, 17)</td>\n",
       "      <td>NOH</td>\n",
       "      <td>no_relation</td>\n",
       "      <td>wikitree</td>\n",
       "    </tr>\n",
       "    <tr>\n",
       "      <th>192</th>\n",
       "      <td>192</td>\n",
       "      <td>1992년에 JSL 1부, 2부 총 28개팀 중 J리그에 참가하지 않겠다고 한 18...</td>\n",
       "      <td>J리그</td>\n",
       "      <td>(27, 29)</td>\n",
       "      <td>ORG</td>\n",
       "      <td>18팀</td>\n",
       "      <td>(44, 46)</td>\n",
       "      <td>NOH</td>\n",
       "      <td>no_relation</td>\n",
       "      <td>wikipedia</td>\n",
       "    </tr>\n",
       "    <tr>\n",
       "      <th>194</th>\n",
       "      <td>194</td>\n",
       "      <td>(해멀스는 8이닝 1실점을 기록하지만 디키의 호투 때문에 패가 된다). 2011년 ...</td>\n",
       "      <td>뉴욕 메츠</td>\n",
       "      <td>(55, 59)</td>\n",
       "      <td>ORG</td>\n",
       "      <td>500만</td>\n",
       "      <td>(87, 90)</td>\n",
       "      <td>NOH</td>\n",
       "      <td>no_relation</td>\n",
       "      <td>wikipedia</td>\n",
       "    </tr>\n",
       "    <tr>\n",
       "      <th>...</th>\n",
       "      <td>...</td>\n",
       "      <td>...</td>\n",
       "      <td>...</td>\n",
       "      <td>...</td>\n",
       "      <td>...</td>\n",
       "      <td>...</td>\n",
       "      <td>...</td>\n",
       "      <td>...</td>\n",
       "      <td>...</td>\n",
       "      <td>...</td>\n",
       "    </tr>\n",
       "    <tr>\n",
       "      <th>32303</th>\n",
       "      <td>32303</td>\n",
       "      <td>2017년 제48회 일본 중의원 의원 총선거에서는 홋카이도 제1구에서 요코미치 의원...</td>\n",
       "      <td>미치시타 다이키</td>\n",
       "      <td>(64, 71)</td>\n",
       "      <td>PER</td>\n",
       "      <td>홋카이도 제1구</td>\n",
       "      <td>(28, 35)</td>\n",
       "      <td>NOH</td>\n",
       "      <td>no_relation</td>\n",
       "      <td>wikipedia</td>\n",
       "    </tr>\n",
       "    <tr>\n",
       "      <th>32329</th>\n",
       "      <td>32329</td>\n",
       "      <td>순천시에서 관리하고 있는 13개 사회보장급여(국민기초, 한부모, 장애연금, 기초연금...</td>\n",
       "      <td>순천시</td>\n",
       "      <td>(0, 2)</td>\n",
       "      <td>ORG</td>\n",
       "      <td>13개</td>\n",
       "      <td>(14, 16)</td>\n",
       "      <td>NOH</td>\n",
       "      <td>no_relation</td>\n",
       "      <td>wikitree</td>\n",
       "    </tr>\n",
       "    <tr>\n",
       "      <th>32356</th>\n",
       "      <td>32356</td>\n",
       "      <td>강화군노인복지관이 이달 16일 농촌마을지킴이사업을 시작으로 27일까지 2주간 8회에...</td>\n",
       "      <td>강화군</td>\n",
       "      <td>(0, 2)</td>\n",
       "      <td>ORG</td>\n",
       "      <td>12개</td>\n",
       "      <td>(61, 63)</td>\n",
       "      <td>NOH</td>\n",
       "      <td>no_relation</td>\n",
       "      <td>wikitree</td>\n",
       "    </tr>\n",
       "    <tr>\n",
       "      <th>32448</th>\n",
       "      <td>32448</td>\n",
       "      <td>전북 14개 지자체가 공개한 자료에 따르면 ▲익산시가 지난 5년간 32억6540만원...</td>\n",
       "      <td>익산시</td>\n",
       "      <td>(25, 27)</td>\n",
       "      <td>ORG</td>\n",
       "      <td>14개</td>\n",
       "      <td>(3, 5)</td>\n",
       "      <td>NOH</td>\n",
       "      <td>no_relation</td>\n",
       "      <td>wikitree</td>\n",
       "    </tr>\n",
       "    <tr>\n",
       "      <th>32457</th>\n",
       "      <td>32457</td>\n",
       "      <td>21일 정읍시에 따르면 올해 노후 경유차 조기 폐차 지원사업으로 예산 17억6880...</td>\n",
       "      <td>정읍시</td>\n",
       "      <td>(4, 6)</td>\n",
       "      <td>ORG</td>\n",
       "      <td>1100대</td>\n",
       "      <td>(61, 65)</td>\n",
       "      <td>NOH</td>\n",
       "      <td>no_relation</td>\n",
       "      <td>wikitree</td>\n",
       "    </tr>\n",
       "  </tbody>\n",
       "</table>\n",
       "<p>413 rows × 10 columns</p>\n",
       "</div>"
      ],
      "text/plain": [
       "          id                                           sentence subject_word  \\\n",
       "72        72  냉전 동안 독일 연방군은 NATO의 서유럽 방위의 주력군이 되었으며 전군을 통틀어 ...       독일 연방군   \n",
       "107      107  고양시청 종합상황실에서는 연휴기간동안 09:00 ~ 18:00까지 민원콜센터(031...          고양시   \n",
       "109      109  당시 김신영 씨는 \"현재 48kg이다. 골반은 조금 더 작아졌지만 크게 달라진 건 ...          김신영   \n",
       "192      192  1992년에 JSL 1부, 2부 총 28개팀 중 J리그에 참가하지 않겠다고 한 18...          J리그   \n",
       "194      194  (해멀스는 8이닝 1실점을 기록하지만 디키의 호투 때문에 패가 된다). 2011년 ...        뉴욕 메츠   \n",
       "...      ...                                                ...          ...   \n",
       "32303  32303  2017년 제48회 일본 중의원 의원 총선거에서는 홋카이도 제1구에서 요코미치 의원...     미치시타 다이키   \n",
       "32329  32329  순천시에서 관리하고 있는 13개 사회보장급여(국민기초, 한부모, 장애연금, 기초연금...          순천시   \n",
       "32356  32356  강화군노인복지관이 이달 16일 농촌마을지킴이사업을 시작으로 27일까지 2주간 8회에...          강화군   \n",
       "32448  32448  전북 14개 지자체가 공개한 자료에 따르면 ▲익산시가 지난 5년간 32억6540만원...          익산시   \n",
       "32457  32457  21일 정읍시에 따르면 올해 노후 경유차 조기 폐차 지원사업으로 예산 17억6880...          정읍시   \n",
       "\n",
       "      subject_idx subject_type   object_word object_idx object_type  \\\n",
       "72        (6, 11)          ORG    49만 5,000명   (46, 55)         NOH   \n",
       "107        (0, 2)          ORG  031-909-9000   (43, 54)         NOH   \n",
       "109        (3, 5)          PER          48kg   (14, 17)         NOH   \n",
       "192      (27, 29)          ORG           18팀   (44, 46)         NOH   \n",
       "194      (55, 59)          ORG          500만   (87, 90)         NOH   \n",
       "...           ...          ...           ...        ...         ...   \n",
       "32303    (64, 71)          PER      홋카이도 제1구   (28, 35)         NOH   \n",
       "32329      (0, 2)          ORG           13개   (14, 16)         NOH   \n",
       "32356      (0, 2)          ORG           12개   (61, 63)         NOH   \n",
       "32448    (25, 27)          ORG           14개     (3, 5)         NOH   \n",
       "32457      (4, 6)          ORG         1100대   (61, 65)         NOH   \n",
       "\n",
       "                                 label     source  \n",
       "72     org:number_of_employees/members  wikipedia  \n",
       "107                        no_relation   wikitree  \n",
       "109                        no_relation   wikitree  \n",
       "192                        no_relation  wikipedia  \n",
       "194                        no_relation  wikipedia  \n",
       "...                                ...        ...  \n",
       "32303                      no_relation  wikipedia  \n",
       "32329                      no_relation   wikitree  \n",
       "32356                      no_relation   wikitree  \n",
       "32448                      no_relation   wikitree  \n",
       "32457                      no_relation   wikitree  \n",
       "\n",
       "[413 rows x 10 columns]"
      ]
     },
     "execution_count": 62,
     "metadata": {},
     "output_type": "execute_result"
    }
   ],
   "source": [
    "out_dataset[out_dataset.object_type == 'NOH']"
   ]
  },
  {
   "cell_type": "code",
   "execution_count": 63,
   "id": "b7ec8901-8649-457d-8430-644b66c61a84",
   "metadata": {},
   "outputs": [
    {
     "data": {
      "text/plain": [
       "no_relation                        310\n",
       "org:number_of_employees/members     48\n",
       "per:title                           19\n",
       "org:member_of                        9\n",
       "per:employee_of                      6\n",
       "org:alternate_names                  5\n",
       "per:date_of_birth                    2\n",
       "org:members                          2\n",
       "per:date_of_death                    2\n",
       "org:place_of_headquarters            2\n",
       "per:children                         2\n",
       "per:origin                           2\n",
       "org:top_members/employees            1\n",
       "per:parents                          1\n",
       "org:product                          1\n",
       "per:alternate_names                  1\n",
       "Name: label, dtype: int64"
      ]
     },
     "execution_count": 63,
     "metadata": {},
     "output_type": "execute_result"
    }
   ],
   "source": [
    "out_dataset[out_dataset.object_type == 'NOH'].label.value_counts()"
   ]
  },
  {
   "cell_type": "markdown",
   "id": "0d85ac14-2bca-4f89-b859-993e4366f2f8",
   "metadata": {},
   "source": [
    "'수치값' 이런 느낌인 것 같다. 연관된 label 로는 number_of_employees/members 만이 적합하지 않을까라는 생각이 든다.  \n",
    "나머지 label에 매핑된 값들은 데이터 검증이 필요할 것 같다."
   ]
  },
  {
   "cell_type": "code",
   "execution_count": 69,
   "id": "d9510650-37a3-4e3f-95fb-19f86c809f33",
   "metadata": {},
   "outputs": [
    {
     "data": {
      "text/html": [
       "<div>\n",
       "<style scoped>\n",
       "    .dataframe tbody tr th:only-of-type {\n",
       "        vertical-align: middle;\n",
       "    }\n",
       "\n",
       "    .dataframe tbody tr th {\n",
       "        vertical-align: top;\n",
       "    }\n",
       "\n",
       "    .dataframe thead th {\n",
       "        text-align: right;\n",
       "    }\n",
       "</style>\n",
       "<table border=\"1\" class=\"dataframe\">\n",
       "  <thead>\n",
       "    <tr style=\"text-align: right;\">\n",
       "      <th></th>\n",
       "      <th>id</th>\n",
       "      <th>sentence</th>\n",
       "      <th>subject_word</th>\n",
       "      <th>subject_idx</th>\n",
       "      <th>subject_type</th>\n",
       "      <th>object_word</th>\n",
       "      <th>object_idx</th>\n",
       "      <th>object_type</th>\n",
       "      <th>label</th>\n",
       "      <th>source</th>\n",
       "    </tr>\n",
       "  </thead>\n",
       "  <tbody>\n",
       "    <tr>\n",
       "      <th>17912</th>\n",
       "      <td>17912</td>\n",
       "      <td>생모는 화의옹주 김씨(和義翁主 金氏, ~1428)로 김씨는 본래 칠점선(七點仙)의 ...</td>\n",
       "      <td>화의옹주</td>\n",
       "      <td>(4, 7)</td>\n",
       "      <td>PER</td>\n",
       "      <td>칠점선(七點仙)</td>\n",
       "      <td>(36, 43)</td>\n",
       "      <td>NOH</td>\n",
       "      <td>per:alternate_names</td>\n",
       "      <td>wikipedia</td>\n",
       "    </tr>\n",
       "  </tbody>\n",
       "</table>\n",
       "</div>"
      ],
      "text/plain": [
       "          id                                           sentence subject_word  \\\n",
       "17912  17912  생모는 화의옹주 김씨(和義翁主 金氏, ~1428)로 김씨는 본래 칠점선(七點仙)의 ...         화의옹주   \n",
       "\n",
       "      subject_idx subject_type object_word object_idx object_type  \\\n",
       "17912      (4, 7)          PER    칠점선(七點仙)   (36, 43)         NOH   \n",
       "\n",
       "                     label     source  \n",
       "17912  per:alternate_names  wikipedia  "
      ]
     },
     "execution_count": 69,
     "metadata": {},
     "output_type": "execute_result"
    }
   ],
   "source": [
    "out_dataset[(out_dataset.object_type == 'NOH') & (out_dataset.label == 'per:alternate_names')]"
   ]
  },
  {
   "cell_type": "code",
   "execution_count": 184,
   "id": "67d729cf-d841-4687-95d5-6dd6f352de6a",
   "metadata": {},
   "outputs": [],
   "source": [
    "label_check = 'per:children'\n",
    "type_check = 'DAT'"
   ]
  },
  {
   "cell_type": "code",
   "execution_count": 185,
   "id": "1bf1e215-ce09-4414-be6d-5407f844cd50",
   "metadata": {},
   "outputs": [
    {
     "data": {
      "text/plain": [
       "PER    304\n",
       "Name: subject_type, dtype: int64"
      ]
     },
     "execution_count": 185,
     "metadata": {},
     "output_type": "execute_result"
    }
   ],
   "source": [
    "out_dataset[out_dataset.label == label_check].subject_type.value_counts()"
   ]
  },
  {
   "cell_type": "code",
   "execution_count": 186,
   "id": "19ea9b96-5dc3-40af-8545-e5e7e2559f2c",
   "metadata": {},
   "outputs": [
    {
     "data": {
      "text/plain": [
       "PER    275\n",
       "POH     22\n",
       "LOC      3\n",
       "NOH      2\n",
       "DAT      1\n",
       "ORG      1\n",
       "Name: object_type, dtype: int64"
      ]
     },
     "execution_count": 186,
     "metadata": {},
     "output_type": "execute_result"
    }
   ],
   "source": [
    "out_dataset[out_dataset.label == label_check].object_type.value_counts()"
   ]
  },
  {
   "cell_type": "code",
   "execution_count": 161,
   "id": "06c6ee20-0842-40be-8e9c-6ed19586a713",
   "metadata": {},
   "outputs": [
    {
     "data": {
      "text/html": [
       "<div>\n",
       "<style scoped>\n",
       "    .dataframe tbody tr th:only-of-type {\n",
       "        vertical-align: middle;\n",
       "    }\n",
       "\n",
       "    .dataframe tbody tr th {\n",
       "        vertical-align: top;\n",
       "    }\n",
       "\n",
       "    .dataframe thead th {\n",
       "        text-align: right;\n",
       "    }\n",
       "</style>\n",
       "<table border=\"1\" class=\"dataframe\">\n",
       "  <thead>\n",
       "    <tr style=\"text-align: right;\">\n",
       "      <th></th>\n",
       "      <th>id</th>\n",
       "      <th>sentence</th>\n",
       "      <th>subject_word</th>\n",
       "      <th>subject_idx</th>\n",
       "      <th>subject_type</th>\n",
       "      <th>object_word</th>\n",
       "      <th>object_idx</th>\n",
       "      <th>object_type</th>\n",
       "      <th>label</th>\n",
       "      <th>source</th>\n",
       "    </tr>\n",
       "  </thead>\n",
       "  <tbody>\n",
       "    <tr>\n",
       "      <th>17115</th>\n",
       "      <td>17115</td>\n",
       "      <td>광주에서 태어난 이한위 배우는 조대부고와 조선대 정밀기계공학과를 졸업하고, 1983년 KBS 10기 공채 탤런트에 합격하며 배우 생활을 시작했다.</td>\n",
       "      <td>이한위</td>\n",
       "      <td>(9, 11)</td>\n",
       "      <td>PER</td>\n",
       "      <td>KBS 10기 공채 탤런트</td>\n",
       "      <td>(48, 61)</td>\n",
       "      <td>DAT</td>\n",
       "      <td>per:title</td>\n",
       "      <td>wikitree</td>\n",
       "    </tr>\n",
       "    <tr>\n",
       "      <th>20393</th>\n",
       "      <td>20393</td>\n",
       "      <td>배정남은 2002년 모델로 데뷔해 영화 '마스터' '보안관', 드라마 '미스터 션샤인' 등에 출연했다.</td>\n",
       "      <td>배정남</td>\n",
       "      <td>(0, 2)</td>\n",
       "      <td>PER</td>\n",
       "      <td>모델</td>\n",
       "      <td>(11, 12)</td>\n",
       "      <td>DAT</td>\n",
       "      <td>per:title</td>\n",
       "      <td>wikitree</td>\n",
       "    </tr>\n",
       "    <tr>\n",
       "      <th>31492</th>\n",
       "      <td>31492</td>\n",
       "      <td>사상 최초로 무료 인터넷 전화 소프트웨어인 스카이프를 통하여 미스 유니버스 2007이었던 모리 리요가 푸에르토리코 대표인 마이라 마토스 페레즈에게 질문을 하였다.</td>\n",
       "      <td>모리 리요</td>\n",
       "      <td>(50, 54)</td>\n",
       "      <td>PER</td>\n",
       "      <td>미스 유니버스 2007</td>\n",
       "      <td>(34, 45)</td>\n",
       "      <td>DAT</td>\n",
       "      <td>per:title</td>\n",
       "      <td>wikipedia</td>\n",
       "    </tr>\n",
       "  </tbody>\n",
       "</table>\n",
       "</div>"
      ],
      "text/plain": [
       "          id  \\\n",
       "17115  17115   \n",
       "20393  20393   \n",
       "31492  31492   \n",
       "\n",
       "                                                                                         sentence  \\\n",
       "17115           광주에서 태어난 이한위 배우는 조대부고와 조선대 정밀기계공학과를 졸업하고, 1983년 KBS 10기 공채 탤런트에 합격하며 배우 생활을 시작했다.   \n",
       "20393                                   배정남은 2002년 모델로 데뷔해 영화 '마스터' '보안관', 드라마 '미스터 션샤인' 등에 출연했다.   \n",
       "31492  사상 최초로 무료 인터넷 전화 소프트웨어인 스카이프를 통하여 미스 유니버스 2007이었던 모리 리요가 푸에르토리코 대표인 마이라 마토스 페레즈에게 질문을 하였다.   \n",
       "\n",
       "      subject_word subject_idx subject_type     object_word object_idx  \\\n",
       "17115          이한위     (9, 11)          PER  KBS 10기 공채 탤런트   (48, 61)   \n",
       "20393          배정남      (0, 2)          PER              모델   (11, 12)   \n",
       "31492        모리 리요    (50, 54)          PER    미스 유니버스 2007   (34, 45)   \n",
       "\n",
       "      object_type      label     source  \n",
       "17115         DAT  per:title   wikitree  \n",
       "20393         DAT  per:title   wikitree  \n",
       "31492         DAT  per:title  wikipedia  "
      ]
     },
     "execution_count": 161,
     "metadata": {},
     "output_type": "execute_result"
    }
   ],
   "source": [
    "out_dataset[(out_dataset.label == label_check) & (out_dataset.object_type == type_check)].head()"
   ]
  },
  {
   "cell_type": "markdown",
   "id": "6b901489-c691-4a82-a5a6-986008632a5b",
   "metadata": {},
   "source": [
    "각 label에 대해서 대응하는 subject type 과 object 타입을 정리해 보았다.  \n",
    "하지만 문제가 type에 대한 값들이 오기입 된 것으로 보이는 데이터가 상당부분 있다는 점이다.  \n",
    "type 추론 후 그 안에서 다음 추론하는 2 step 추론을 진행하려면 데이터 정제작업이 필요해 보인다..."
   ]
  },
  {
   "cell_type": "markdown",
   "id": "89af152d-6ab9-415c-baef-0cb472b3ac01",
   "metadata": {},
   "source": [
    "각 label별 type 연관관계\n",
    "\n",
    "- no_relation : 연관없음\n",
    "\n",
    "-----------------------------------------------------------------------\n",
    "[organization]  \n",
    "- org:dissolved                       : 지정된 조직이 해산된 날짜 (ORG, DAT)  \n",
    "- org:founded                         : 지정된 조직이 설립된 날짜 (ORG, DAT)  \n",
    "- org:place_of_headqueaters           : 지정된 조직의 본부가 있는 장소(본사위치) (ORG, LOC)  \n",
    "- org:alternate_names                 : 지정된 조직을 참조하기 위해 사무실 이름 대신 호출되는 대체 이름 (ORG, ORG)  \n",
    "- org:member_of                       : 지정된 조직이 속한 조직 (ORG, ORG)  \n",
    "- org:members                         : 지정된 조직에 속한 조직 (ORG, ORG)  \n",
    "- org:political/religious_affiliation : 지정된 조직이 소속된 정치/종교 단체 (ORG, ORG) or (ORG, POH)  \n",
    "- org:product                         : 특정 조직에서 생산한 제품 또는 상품 (ORG, POH)  \n",
    "- org:founded_by                      : 특정 조직을 설립한 사람 또는 조직 (ORG, PER)  \n",
    "- org:top_members/employees           : 지정된 조직의 대표 또는 구성원 (ORG, PER)  \n",
    "- org:number_of_employees/members     : 지정된 조직에 소속된 총 구성원 수 (ORG, NOH)  \n",
    "\n",
    "-----------------------------------------------------------------------  \n",
    "[person]  \n",
    "- per:date_of_birth     : 지정된 사람이 태어난 날짜 (PER, DAT)  \n",
    "- per:date_of_death     : 지정된 사람이 사망한 날짜 (PER, DAT)  \n",
    "- per:place_of_birth    : 특정인이 사망한 날짜 (PER, LOC)  \n",
    "- per:place_of_death    : 특정인이 사망한 장소 (PER, LOC)  \n",
    "- per:place_of_residence: 지정된 사람이 사는 곳 (PER, LOC)  \n",
    "- per:origin            : 특정인의 출신 또는 국적 (PER, LOC), (PER, ORG)  \n",
    "- per:employee_of       : 지정된 사람이 일하는 조직 (PER, ORG)  \n",
    "- per:schools_attended  : 지정된 사람이 다녔던 학교 (PER, ORG)  \n",
    "- per:alternate_names   : 지정된 사람을 지칭하기 위해 공식 이름 대신에 부르는 대체 이름 (PER, PER)  \n",
    "- per:parents           : 지정된 사람의 부모 (PER, PER)  \n",
    "- per:children          : 지정된 사람의 자녀 (PER, PER)  \n",
    "- per:siblings          : 특정인의 형제자매 (PER, PER)  \n",
    "- per:spouse            : 특정인의 배우자 (PER, PER)  \n",
    "- per:other_family      : 부모, 자녀, 형제자매 및 배우자를 제외한 특정인의 가족 (PER, PER)  \n",
    "- per:colleagues        : 지정된 사람과 함께 일하는 사람들 (PER, PER)  \n",
    "- per:product           : 특정인이 제작한 제품 또는 작품 (PER, POH)  \n",
    "- per:religion          : 특정인이 믿는 종교 (PER, ORG)  \n",
    "- per:title             : 특정인의 직위를 나타내는 공식 또는 비공식 이름 (PER, POH)  "
   ]
  },
  {
   "cell_type": "markdown",
   "id": "c0fbb192-b93e-41b5-aa42-e758a3daa2f9",
   "metadata": {},
   "source": [
    "다음으론 문장의 길이 등을 고려해보자."
   ]
  },
  {
   "cell_type": "code",
   "execution_count": 168,
   "id": "c5eacac6-0743-408c-990e-d56020b2c587",
   "metadata": {},
   "outputs": [],
   "source": [
    "out_dataset['sentence_length'] = out_dataset['sentence'].apply(lambda x: len(x))"
   ]
  },
  {
   "cell_type": "code",
   "execution_count": 175,
   "id": "67c2b98d-1c0c-4bae-a0d7-0eb92391c1bb",
   "metadata": {},
   "outputs": [
    {
     "data": {
      "text/plain": [
       "count    32470.000000\n",
       "mean        97.083954\n",
       "std         47.939902\n",
       "min         14.000000\n",
       "25%         64.000000\n",
       "50%         87.000000\n",
       "75%        118.000000\n",
       "max        455.000000\n",
       "Name: sentence_length, dtype: float64"
      ]
     },
     "execution_count": 175,
     "metadata": {},
     "output_type": "execute_result"
    }
   ],
   "source": [
    "out_dataset['sentence_length'].describe()"
   ]
  },
  {
   "cell_type": "code",
   "execution_count": 179,
   "id": "41110e7d-4e21-4896-9adf-cae32b3703ae",
   "metadata": {},
   "outputs": [
    {
     "data": {
      "text/plain": [
       "<AxesSubplot:>"
      ]
     },
     "execution_count": 179,
     "metadata": {},
     "output_type": "execute_result"
    },
    {
     "data": {
      "image/png": "[encoded data removed]",
      "text/plain": [
       "<Figure size 432x288 with 1 Axes>"
      ]
     },
     "metadata": {
      "needs_background": "light"
     },
     "output_type": "display_data"
    }
   ],
   "source": [
    "out_dataset['sentence_length'].plot()"
   ]
  },
  {
   "cell_type": "markdown",
   "id": "302671ab-3ba4-4fb0-b357-d0364d9ade61",
   "metadata": {},
   "source": [
    "분포도 나름 고른거 같고, 굳이 추가적인 작업이나 고려할것이 없을거 같음."
   ]
  },
  {
   "cell_type": "code",
   "execution_count": 182,
   "id": "f134bc86-f8a5-40d1-b01e-fea8243c052b",
   "metadata": {},
   "outputs": [
    {
     "data": {
      "text/plain": [
       "wikipedia          21620\n",
       "wikitree           10672\n",
       "policy_briefing      178\n",
       "Name: source, dtype: int64"
      ]
     },
     "execution_count": 182,
     "metadata": {},
     "output_type": "execute_result"
    }
   ],
   "source": [
    "out_dataset.source.value_counts()"
   ]
  },
  {
   "cell_type": "code",
   "execution_count": 183,
   "id": "99ec31fe-9807-418d-94fd-de88d255b145",
   "metadata": {},
   "outputs": [
    {
     "data": {
      "text/html": [
       "<div>\n",
       "<style scoped>\n",
       "    .dataframe tbody tr th:only-of-type {\n",
       "        vertical-align: middle;\n",
       "    }\n",
       "\n",
       "    .dataframe tbody tr th {\n",
       "        vertical-align: top;\n",
       "    }\n",
       "\n",
       "    .dataframe thead th {\n",
       "        text-align: right;\n",
       "    }\n",
       "</style>\n",
       "<table border=\"1\" class=\"dataframe\">\n",
       "  <thead>\n",
       "    <tr style=\"text-align: right;\">\n",
       "      <th></th>\n",
       "      <th>id</th>\n",
       "      <th>sentence</th>\n",
       "      <th>subject_word</th>\n",
       "      <th>subject_idx</th>\n",
       "      <th>subject_type</th>\n",
       "      <th>object_word</th>\n",
       "      <th>object_idx</th>\n",
       "      <th>object_type</th>\n",
       "      <th>label</th>\n",
       "      <th>source</th>\n",
       "      <th>sentence_length</th>\n",
       "    </tr>\n",
       "  </thead>\n",
       "  <tbody>\n",
       "    <tr>\n",
       "      <th>31</th>\n",
       "      <td>31</td>\n",
       "      <td>이어 “향후 우리 창업벤처기업들이 세계가 주목하는 줌(Zoom)과 페이스북(Facebook)과 같은 글로벌 플랫폼 기업으로 성장하도록 지원하고 대한민국이 ‘벤처 4대강국’으로 자리매김하도록 최선을 다할 계획”이라고 밝혔다.</td>\n",
       "      <td>Facebook</td>\n",
       "      <td>(42, 49)</td>\n",
       "      <td>ORG</td>\n",
       "      <td>페이스북</td>\n",
       "      <td>(37, 40)</td>\n",
       "      <td>ORG</td>\n",
       "      <td>org:alternate_names</td>\n",
       "      <td>policy_briefing</td>\n",
       "      <td>124</td>\n",
       "    </tr>\n",
       "    <tr>\n",
       "      <th>135</th>\n",
       "      <td>135</td>\n",
       "      <td>한편, 러시아의 경우에도 러시아 측의 조치로 인해 올 3월부터 인천-모스크바 간 정기편 운항이 중단되며 러시아에 입국을 희망하던 많은 국내 기업인·학생 등 수요가 누적돼 있는 상황였다.</td>\n",
       "      <td>러시아</td>\n",
       "      <td>(14, 16)</td>\n",
       "      <td>ORG</td>\n",
       "      <td>모스크바</td>\n",
       "      <td>(38, 41)</td>\n",
       "      <td>LOC</td>\n",
       "      <td>org:members</td>\n",
       "      <td>policy_briefing</td>\n",
       "      <td>103</td>\n",
       "    </tr>\n",
       "    <tr>\n",
       "      <th>387</th>\n",
       "      <td>387</td>\n",
       "      <td>박능후 보건복지부 장관은 “코로나19를 극복하고 우리의 안전한 일상을 되찾기 위해서 치료제와 백신 확보가 무엇보다 중요하다”며 “임상시험 비용 지원 등을 위한 추경예산의 신속한 집행 등을 통해 국산 치료제와 백신이 조속히 확보 될 수 있도록 모든 역량을 결집하겠다”고 강조했다.</td>\n",
       "      <td>보건복지부</td>\n",
       "      <td>(4, 8)</td>\n",
       "      <td>ORG</td>\n",
       "      <td>박능후</td>\n",
       "      <td>(0, 2)</td>\n",
       "      <td>PER</td>\n",
       "      <td>org:top_members/employees</td>\n",
       "      <td>policy_briefing</td>\n",
       "      <td>155</td>\n",
       "    </tr>\n",
       "    <tr>\n",
       "      <th>848</th>\n",
       "      <td>848</td>\n",
       "      <td>박능후 중앙재난안전대책본부 1차장(보건복지부 장관)은 24일 “코로나19 확산 추세는 다소 멈췄으나, 국내 하루 확진자 수는 백명 내외를 유지하고 있다”며 “수도권 비중은 여전히70% 수준을 차지하고 있고 산발적인 집단감염도 지역을 달리하며 발생하고 있어 긴장을 늦출 수 없는 상황”이라고 강조했다.</td>\n",
       "      <td>박능후</td>\n",
       "      <td>(0, 2)</td>\n",
       "      <td>PER</td>\n",
       "      <td>보건복지부 장관</td>\n",
       "      <td>(19, 26)</td>\n",
       "      <td>POH</td>\n",
       "      <td>per:title</td>\n",
       "      <td>policy_briefing</td>\n",
       "      <td>167</td>\n",
       "    </tr>\n",
       "    <tr>\n",
       "      <th>852</th>\n",
       "      <td>852</td>\n",
       "      <td>박영선 중소벤처기업부 장관이 내년 예산안과 관련해 브리핑을 하고 있다.</td>\n",
       "      <td>중소벤처기업부</td>\n",
       "      <td>(4, 10)</td>\n",
       "      <td>ORG</td>\n",
       "      <td>박영선</td>\n",
       "      <td>(0, 2)</td>\n",
       "      <td>PER</td>\n",
       "      <td>org:top_members/employees</td>\n",
       "      <td>policy_briefing</td>\n",
       "      <td>39</td>\n",
       "    </tr>\n",
       "  </tbody>\n",
       "</table>\n",
       "</div>"
      ],
      "text/plain": [
       "      id  \\\n",
       "31    31   \n",
       "135  135   \n",
       "387  387   \n",
       "848  848   \n",
       "852  852   \n",
       "\n",
       "                                                                                                                                                                    sentence  \\\n",
       "31                                              이어 “향후 우리 창업벤처기업들이 세계가 주목하는 줌(Zoom)과 페이스북(Facebook)과 같은 글로벌 플랫폼 기업으로 성장하도록 지원하고 대한민국이 ‘벤처 4대강국’으로 자리매김하도록 최선을 다할 계획”이라고 밝혔다.   \n",
       "135                                                                  한편, 러시아의 경우에도 러시아 측의 조치로 인해 올 3월부터 인천-모스크바 간 정기편 운항이 중단되며 러시아에 입국을 희망하던 많은 국내 기업인·학생 등 수요가 누적돼 있는 상황였다.   \n",
       "387              박능후 보건복지부 장관은 “코로나19를 극복하고 우리의 안전한 일상을 되찾기 위해서 치료제와 백신 확보가 무엇보다 중요하다”며 “임상시험 비용 지원 등을 위한 추경예산의 신속한 집행 등을 통해 국산 치료제와 백신이 조속히 확보 될 수 있도록 모든 역량을 결집하겠다”고 강조했다.   \n",
       "848  박능후 중앙재난안전대책본부 1차장(보건복지부 장관)은 24일 “코로나19 확산 추세는 다소 멈췄으나, 국내 하루 확진자 수는 백명 내외를 유지하고 있다”며 “수도권 비중은 여전히70% 수준을 차지하고 있고 산발적인 집단감염도 지역을 달리하며 발생하고 있어 긴장을 늦출 수 없는 상황”이라고 강조했다.   \n",
       "852                                                                                                                                  박영선 중소벤처기업부 장관이 내년 예산안과 관련해 브리핑을 하고 있다.   \n",
       "\n",
       "    subject_word subject_idx subject_type object_word object_idx object_type  \\\n",
       "31      Facebook    (42, 49)          ORG        페이스북   (37, 40)         ORG   \n",
       "135          러시아    (14, 16)          ORG        모스크바   (38, 41)         LOC   \n",
       "387        보건복지부      (4, 8)          ORG         박능후     (0, 2)         PER   \n",
       "848          박능후      (0, 2)          PER    보건복지부 장관   (19, 26)         POH   \n",
       "852      중소벤처기업부     (4, 10)          ORG         박영선     (0, 2)         PER   \n",
       "\n",
       "                         label           source  sentence_length  \n",
       "31         org:alternate_names  policy_briefing              124  \n",
       "135                org:members  policy_briefing              103  \n",
       "387  org:top_members/employees  policy_briefing              155  \n",
       "848                  per:title  policy_briefing              167  \n",
       "852  org:top_members/employees  policy_briefing               39  "
      ]
     },
     "execution_count": 183,
     "metadata": {},
     "output_type": "execute_result"
    }
   ],
   "source": [
    "out_dataset[(out_dataset.source == 'policy_briefing')].head()"
   ]
  }
 ],
 "metadata": {
  "kernelspec": {
   "display_name": "Python 3 (ipykernel)",
   "language": "python",
   "name": "python3"
  },
  "language_info": {
   "codemirror_mode": {
    "name": "ipython",
    "version": 3
   },
   "file_extension": ".py",
   "mimetype": "text/x-python",
   "name": "python",
   "nbconvert_exporter": "python",
   "pygments_lexer": "ipython3",
   "version": "3.8.5"
  }
 },
 "nbformat": 4,
 "nbformat_minor": 5
}
