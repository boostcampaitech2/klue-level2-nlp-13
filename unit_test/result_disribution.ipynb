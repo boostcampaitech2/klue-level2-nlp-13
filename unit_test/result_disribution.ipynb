{
 "cells": [
  {
   "cell_type": "markdown",
   "id": "043ca184-3628-4b7c-b817-dd1f795c8c5e",
   "metadata": {},
   "source": [
    "# check result"
   ]
  },
  {
   "cell_type": "code",
   "execution_count": 1,
   "id": "9193919d-2649-44f1-bc4e-c999f8e4a4b3",
   "metadata": {},
   "outputs": [],
   "source": [
    "import pandas as pd"
   ]
  },
  {
   "cell_type": "code",
   "execution_count": 43,
   "id": "8d2031de-b6c4-467d-9b9b-978ea3e7be70",
   "metadata": {},
   "outputs": [
    {
     "data": {
      "text/html": [
       "<div>\n",
       "<style scoped>\n",
       "    .dataframe tbody tr th:only-of-type {\n",
       "        vertical-align: middle;\n",
       "    }\n",
       "\n",
       "    .dataframe tbody tr th {\n",
       "        vertical-align: top;\n",
       "    }\n",
       "\n",
       "    .dataframe thead th {\n",
       "        text-align: right;\n",
       "    }\n",
       "</style>\n",
       "<table border=\"1\" class=\"dataframe\">\n",
       "  <thead>\n",
       "    <tr style=\"text-align: right;\">\n",
       "      <th></th>\n",
       "      <th>id</th>\n",
       "      <th>pred_label</th>\n",
       "      <th>probs</th>\n",
       "    </tr>\n",
       "  </thead>\n",
       "  <tbody>\n",
       "    <tr>\n",
       "      <th>0</th>\n",
       "      <td>0</td>\n",
       "      <td>org:product</td>\n",
       "      <td>[0.011091702617704868, 0.0006882051820866764, ...</td>\n",
       "    </tr>\n",
       "    <tr>\n",
       "      <th>1</th>\n",
       "      <td>1</td>\n",
       "      <td>per:alternate_names</td>\n",
       "      <td>[0.008201401680707932, 0.0001585328864166513, ...</td>\n",
       "    </tr>\n",
       "    <tr>\n",
       "      <th>2</th>\n",
       "      <td>2</td>\n",
       "      <td>no_relation</td>\n",
       "      <td>[0.9995689988136292, 2.592715281934943e-05, 3....</td>\n",
       "    </tr>\n",
       "    <tr>\n",
       "      <th>3</th>\n",
       "      <td>3</td>\n",
       "      <td>no_relation</td>\n",
       "      <td>[0.9980446100234985, 0.00012327719014137983, 3...</td>\n",
       "    </tr>\n",
       "    <tr>\n",
       "      <th>4</th>\n",
       "      <td>4</td>\n",
       "      <td>no_relation</td>\n",
       "      <td>[0.979190468788147, 0.018736956641077995, 0.00...</td>\n",
       "    </tr>\n",
       "  </tbody>\n",
       "</table>\n",
       "</div>"
      ],
      "text/plain": [
       "   id           pred_label                                              probs\n",
       "0   0          org:product  [0.011091702617704868, 0.0006882051820866764, ...\n",
       "1   1  per:alternate_names  [0.008201401680707932, 0.0001585328864166513, ...\n",
       "2   2          no_relation  [0.9995689988136292, 2.592715281934943e-05, 3....\n",
       "3   3          no_relation  [0.9980446100234985, 0.00012327719014137983, 3...\n",
       "4   4          no_relation  [0.979190468788147, 0.018736956641077995, 0.00..."
      ]
     },
     "execution_count": 43,
     "metadata": {},
     "output_type": "execute_result"
    }
   ],
   "source": [
    "submission = pd.read_csv('../prediction/KSW_batch32_seed2_epoch10.csv')\n",
    "submission.head()"
   ]
  },
  {
   "cell_type": "code",
   "execution_count": 45,
   "id": "9c76e088-7574-4887-bf1f-e9fda9c5474f",
   "metadata": {},
   "outputs": [
    {
     "data": {
      "text/plain": [
       "no_relation                            4511\n",
       "per:title                               695\n",
       "org:top_members/employees               428\n",
       "per:employee_of                         343\n",
       "org:product                             290\n",
       "org:place_of_headquarters               208\n",
       "org:members                             167\n",
       "per:origin                              167\n",
       "per:colleagues                          159\n",
       "org:member_of                           141\n",
       "per:alternate_names                     106\n",
       "per:place_of_residence                   81\n",
       "per:product                              70\n",
       "org:alternate_names                      55\n",
       "per:spouse                               42\n",
       "per:children                             40\n",
       "per:parents                              40\n",
       "per:siblings                             27\n",
       "per:date_of_death                        26\n",
       "per:place_of_death                       22\n",
       "per:other_family                         20\n",
       "org:number_of_employees/members          20\n",
       "org:founded                              19\n",
       "org:political/religious_affiliation      16\n",
       "per:date_of_birth                        15\n",
       "per:schools_attended                     14\n",
       "per:place_of_birth                       13\n",
       "org:founded_by                           12\n",
       "org:dissolved                             9\n",
       "per:religion                              9\n",
       "Name: pred_label, dtype: int64"
      ]
     },
     "execution_count": 45,
     "metadata": {},
     "output_type": "execute_result"
    }
   ],
   "source": [
    "submission.pred_label.value_counts()"
   ]
  },
  {
   "cell_type": "code",
   "execution_count": 40,
   "id": "ff72d16a-0e5c-42a5-8071-ff93a32d1532",
   "metadata": {},
   "outputs": [
    {
     "data": {
      "text/plain": [
       "no_relation                            4911\n",
       "per:title                               673\n",
       "org:top_members/employees               410\n",
       "per:employee_of                         302\n",
       "per:origin                              247\n",
       "org:product                             216\n",
       "org:place_of_headquarters               180\n",
       "org:member_of                           125\n",
       "per:alternate_names                     124\n",
       "per:spouse                               78\n",
       "org:alternate_names                      74\n",
       "org:members                              58\n",
       "per:product                              45\n",
       "per:place_of_residence                   35\n",
       "per:children                             33\n",
       "per:colleagues                           33\n",
       "per:siblings                             30\n",
       "per:date_of_death                        29\n",
       "org:founded                              27\n",
       "per:parents                              26\n",
       "per:other_family                         22\n",
       "per:date_of_birth                        19\n",
       "per:place_of_birth                       16\n",
       "per:place_of_death                       14\n",
       "org:number_of_employees/members          13\n",
       "org:founded_by                           10\n",
       "org:political/religious_affiliation       7\n",
       "per:schools_attended                      7\n",
       "per:religion                              1\n",
       "Name: pred_label, dtype: int64"
      ]
     },
     "execution_count": 40,
     "metadata": {},
     "output_type": "execute_result"
    }
   ],
   "source": [
    "#submission = pd.read_csv('../prediction/klue_bert-base_CEW_CosALR_AdamW_10_basic.csv')\n",
    "submission2 = pd.read_csv('../prediction/klue-roberta-large_CEW_CosALR_AdamW_base_1st_2.csv')\n",
    "submission2.pred_label.value_counts()"
   ]
  },
  {
   "cell_type": "code",
   "execution_count": null,
   "id": "ef082dd2-7408-4e51-83ba-8ea31706b672",
   "metadata": {},
   "outputs": [],
   "source": [
    "from inference import do_inference\n",
    "do_inference(config)"
   ]
  },
  {
   "cell_type": "code",
   "execution_count": 24,
   "id": "9e3fee09-c4c0-4b3a-844f-2f57c4e2beb8",
   "metadata": {},
   "outputs": [
    {
     "data": {
      "text/plain": [
       "7765"
      ]
     },
     "execution_count": 24,
     "metadata": {},
     "output_type": "execute_result"
    }
   ],
   "source": [
    "test_csv = pd.read_csv('../../../dataset/test/test_data.csv')\n",
    "len(test_csv)"
   ]
  },
  {
   "cell_type": "code",
   "execution_count": 27,
   "id": "898e4076-5c56-4be8-8082-8d8049512e2b",
   "metadata": {},
   "outputs": [],
   "source": [
    "dataset = pd.read_csv('../../../dataset/train/train_dataset.csv')"
   ]
  },
  {
   "cell_type": "code",
   "execution_count": 28,
   "id": "e984e902-98a1-4ac0-9f26-ce3f18812025",
   "metadata": {},
   "outputs": [
    {
     "data": {
      "text/html": [
       "<div>\n",
       "<style scoped>\n",
       "    .dataframe tbody tr th:only-of-type {\n",
       "        vertical-align: middle;\n",
       "    }\n",
       "\n",
       "    .dataframe tbody tr th {\n",
       "        vertical-align: top;\n",
       "    }\n",
       "\n",
       "    .dataframe thead th {\n",
       "        text-align: right;\n",
       "    }\n",
       "</style>\n",
       "<table border=\"1\" class=\"dataframe\">\n",
       "  <thead>\n",
       "    <tr style=\"text-align: right;\">\n",
       "      <th></th>\n",
       "      <th>Unnamed: 0</th>\n",
       "      <th>id</th>\n",
       "      <th>sentence</th>\n",
       "      <th>subject_word</th>\n",
       "      <th>subject_idx</th>\n",
       "      <th>subject_type</th>\n",
       "      <th>object_word</th>\n",
       "      <th>object_idx</th>\n",
       "      <th>object_type</th>\n",
       "      <th>label</th>\n",
       "      <th>source</th>\n",
       "    </tr>\n",
       "  </thead>\n",
       "  <tbody>\n",
       "    <tr>\n",
       "      <th>0</th>\n",
       "      <td>0</td>\n",
       "      <td>0</td>\n",
       "      <td>〈Something〉는 조지 해리슨이 쓰고 비틀즈가 1969년 앨범 《Abbey R...</td>\n",
       "      <td>비틀즈</td>\n",
       "      <td>(24, 26)</td>\n",
       "      <td>ORG</td>\n",
       "      <td>조지 해리슨</td>\n",
       "      <td>(13, 18)</td>\n",
       "      <td>PER</td>\n",
       "      <td>no_relation</td>\n",
       "      <td>wikipedia</td>\n",
       "    </tr>\n",
       "    <tr>\n",
       "      <th>1</th>\n",
       "      <td>1</td>\n",
       "      <td>1</td>\n",
       "      <td>호남이 기반인 바른미래당·대안신당·민주평화당이 우여곡절 끝에 합당해 민생당(가칭)으...</td>\n",
       "      <td>민주평화당</td>\n",
       "      <td>(19, 23)</td>\n",
       "      <td>ORG</td>\n",
       "      <td>대안신당</td>\n",
       "      <td>(14, 17)</td>\n",
       "      <td>ORG</td>\n",
       "      <td>no_relation</td>\n",
       "      <td>wikitree</td>\n",
       "    </tr>\n",
       "    <tr>\n",
       "      <th>2</th>\n",
       "      <td>2</td>\n",
       "      <td>2</td>\n",
       "      <td>K리그2에서 성적 1위를 달리고 있는 광주FC는 지난 26일 한국프로축구연맹으로부터...</td>\n",
       "      <td>광주FC</td>\n",
       "      <td>(21, 24)</td>\n",
       "      <td>ORG</td>\n",
       "      <td>한국프로축구연맹</td>\n",
       "      <td>(34, 41)</td>\n",
       "      <td>ORG</td>\n",
       "      <td>org:member_of</td>\n",
       "      <td>wikitree</td>\n",
       "    </tr>\n",
       "    <tr>\n",
       "      <th>3</th>\n",
       "      <td>3</td>\n",
       "      <td>3</td>\n",
       "      <td>균일가 생활용품점 (주)아성다이소(대표 박정부)는 코로나19 바이러스로 어려움을 겪...</td>\n",
       "      <td>아성다이소</td>\n",
       "      <td>(13, 17)</td>\n",
       "      <td>ORG</td>\n",
       "      <td>박정부</td>\n",
       "      <td>(22, 24)</td>\n",
       "      <td>PER</td>\n",
       "      <td>org:top_members/employees</td>\n",
       "      <td>wikitree</td>\n",
       "    </tr>\n",
       "    <tr>\n",
       "      <th>4</th>\n",
       "      <td>4</td>\n",
       "      <td>4</td>\n",
       "      <td>1967년 프로 야구 드래프트 1순위로 요미우리 자이언츠에게 입단하면서 등번호는 8...</td>\n",
       "      <td>요미우리 자이언츠</td>\n",
       "      <td>(22, 30)</td>\n",
       "      <td>ORG</td>\n",
       "      <td>1967</td>\n",
       "      <td>(0, 3)</td>\n",
       "      <td>DAT</td>\n",
       "      <td>no_relation</td>\n",
       "      <td>wikipedia</td>\n",
       "    </tr>\n",
       "  </tbody>\n",
       "</table>\n",
       "</div>"
      ],
      "text/plain": [
       "   Unnamed: 0  id                                           sentence  \\\n",
       "0           0   0  〈Something〉는 조지 해리슨이 쓰고 비틀즈가 1969년 앨범 《Abbey R...   \n",
       "1           1   1  호남이 기반인 바른미래당·대안신당·민주평화당이 우여곡절 끝에 합당해 민생당(가칭)으...   \n",
       "2           2   2  K리그2에서 성적 1위를 달리고 있는 광주FC는 지난 26일 한국프로축구연맹으로부터...   \n",
       "3           3   3  균일가 생활용품점 (주)아성다이소(대표 박정부)는 코로나19 바이러스로 어려움을 겪...   \n",
       "4           4   4  1967년 프로 야구 드래프트 1순위로 요미우리 자이언츠에게 입단하면서 등번호는 8...   \n",
       "\n",
       "  subject_word subject_idx subject_type object_word object_idx object_type  \\\n",
       "0          비틀즈    (24, 26)          ORG      조지 해리슨   (13, 18)         PER   \n",
       "1        민주평화당    (19, 23)          ORG        대안신당   (14, 17)         ORG   \n",
       "2         광주FC    (21, 24)          ORG    한국프로축구연맹   (34, 41)         ORG   \n",
       "3        아성다이소    (13, 17)          ORG         박정부   (22, 24)         PER   \n",
       "4    요미우리 자이언츠    (22, 30)          ORG        1967     (0, 3)         DAT   \n",
       "\n",
       "                       label     source  \n",
       "0                no_relation  wikipedia  \n",
       "1                no_relation   wikitree  \n",
       "2              org:member_of   wikitree  \n",
       "3  org:top_members/employees   wikitree  \n",
       "4                no_relation  wikipedia  "
      ]
     },
     "execution_count": 28,
     "metadata": {},
     "output_type": "execute_result"
    }
   ],
   "source": [
    "dataset.head()"
   ]
  }
 ],
 "metadata": {
  "kernelspec": {
   "display_name": "Python 3 (ipykernel)",
   "language": "python",
   "name": "python3"
  },
  "language_info": {
   "codemirror_mode": {
    "name": "ipython",
    "version": 3
   },
   "file_extension": ".py",
   "mimetype": "text/x-python",
   "name": "python",
   "nbconvert_exporter": "python",
   "pygments_lexer": "ipython3",
   "version": "3.8.5"
  }
 },
 "nbformat": 4,
 "nbformat_minor": 5
}
