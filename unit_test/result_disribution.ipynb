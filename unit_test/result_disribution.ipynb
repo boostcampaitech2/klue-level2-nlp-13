{
 "cells": [
  {
   "cell_type": "markdown",
   "id": "043ca184-3628-4b7c-b817-dd1f795c8c5e",
   "metadata": {},
   "source": [
    "# check result"
   ]
  },
  {
   "cell_type": "code",
   "execution_count": 1,
   "id": "9193919d-2649-44f1-bc4e-c999f8e4a4b3",
   "metadata": {},
   "outputs": [],
   "source": [
    "import pandas as pd"
   ]
  },
  {
   "cell_type": "code",
   "execution_count": 19,
   "id": "8d2031de-b6c4-467d-9b9b-978ea3e7be70",
   "metadata": {},
   "outputs": [
    {
     "data": {
      "text/html": [
       "<div>\n",
       "<style scoped>\n",
       "    .dataframe tbody tr th:only-of-type {\n",
       "        vertical-align: middle;\n",
       "    }\n",
       "\n",
       "    .dataframe tbody tr th {\n",
       "        vertical-align: top;\n",
       "    }\n",
       "\n",
       "    .dataframe thead th {\n",
       "        text-align: right;\n",
       "    }\n",
       "</style>\n",
       "<table border=\"1\" class=\"dataframe\">\n",
       "  <thead>\n",
       "    <tr style=\"text-align: right;\">\n",
       "      <th></th>\n",
       "      <th>id</th>\n",
       "      <th>pred_label</th>\n",
       "      <th>probs</th>\n",
       "    </tr>\n",
       "  </thead>\n",
       "  <tbody>\n",
       "    <tr>\n",
       "      <th>0</th>\n",
       "      <td>0</td>\n",
       "      <td>org:alternate_names</td>\n",
       "      <td>[0.018470456823706627, 0.0032995266374200583, ...</td>\n",
       "    </tr>\n",
       "    <tr>\n",
       "      <th>1</th>\n",
       "      <td>1</td>\n",
       "      <td>per:alternate_names</td>\n",
       "      <td>[0.01879669539630413, 0.00046347727766260505, ...</td>\n",
       "    </tr>\n",
       "    <tr>\n",
       "      <th>2</th>\n",
       "      <td>2</td>\n",
       "      <td>no_relation</td>\n",
       "      <td>[0.996674656867981, 6.995588773861527e-05, 0.0...</td>\n",
       "    </tr>\n",
       "    <tr>\n",
       "      <th>3</th>\n",
       "      <td>3</td>\n",
       "      <td>no_relation</td>\n",
       "      <td>[0.6300441026687622, 0.002294109435752034, 0.0...</td>\n",
       "    </tr>\n",
       "    <tr>\n",
       "      <th>4</th>\n",
       "      <td>4</td>\n",
       "      <td>no_relation</td>\n",
       "      <td>[0.6659647822380066, 0.3127194046974182, 0.000...</td>\n",
       "    </tr>\n",
       "  </tbody>\n",
       "</table>\n",
       "</div>"
      ],
      "text/plain": [
       "   id           pred_label                                              probs\n",
       "0   0  org:alternate_names  [0.018470456823706627, 0.0032995266374200583, ...\n",
       "1   1  per:alternate_names  [0.01879669539630413, 0.00046347727766260505, ...\n",
       "2   2          no_relation  [0.996674656867981, 6.995588773861527e-05, 0.0...\n",
       "3   3          no_relation  [0.6300441026687622, 0.002294109435752034, 0.0...\n",
       "4   4          no_relation  [0.6659647822380066, 0.3127194046974182, 0.000..."
      ]
     },
     "execution_count": 19,
     "metadata": {},
     "output_type": "execute_result"
    }
   ],
   "source": [
    "submission = pd.read_csv('../prediction/klue_bert-base_CEW_CosALR_AdamW_loss_TEM_2nd.csv')\n",
    "submission.head()"
   ]
  },
  {
   "cell_type": "code",
   "execution_count": 20,
   "id": "9c76e088-7574-4887-bf1f-e9fda9c5474f",
   "metadata": {},
   "outputs": [
    {
     "data": {
      "text/plain": [
       "no_relation                            4186\n",
       "per:title                               857\n",
       "org:top_members/employees               483\n",
       "org:product                             337\n",
       "per:employee_of                         337\n",
       "per:colleagues                          208\n",
       "org:place_of_headquarters               205\n",
       "per:origin                              198\n",
       "org:member_of                           157\n",
       "per:alternate_names                     131\n",
       "org:alternate_names                     119\n",
       "org:members                              92\n",
       "per:product                              76\n",
       "per:parents                              70\n",
       "per:spouse                               53\n",
       "org:founded                              46\n",
       "org:number_of_employees/members          24\n",
       "per:siblings                             23\n",
       "per:date_of_death                        22\n",
       "org:political/religious_affiliation      21\n",
       "per:children                             20\n",
       "per:other_family                         18\n",
       "per:date_of_birth                        16\n",
       "per:place_of_residence                   16\n",
       "per:place_of_birth                       11\n",
       "per:religion                             11\n",
       "org:founded_by                           10\n",
       "per:schools_attended                      9\n",
       "per:place_of_death                        5\n",
       "org:dissolved                             4\n",
       "Name: pred_label, dtype: int64"
      ]
     },
     "execution_count": 20,
     "metadata": {},
     "output_type": "execute_result"
    }
   ],
   "source": [
    "submission.pred_label.value_counts()"
   ]
  },
  {
   "cell_type": "code",
   "execution_count": 21,
   "id": "ff72d16a-0e5c-42a5-8071-ff93a32d1532",
   "metadata": {},
   "outputs": [
    {
     "data": {
      "text/plain": [
       "no_relation                            4438\n",
       "per:title                               784\n",
       "org:top_members/employees               428\n",
       "per:employee_of                         341\n",
       "org:place_of_headquarters               255\n",
       "org:product                             220\n",
       "per:origin                              162\n",
       "org:members                             144\n",
       "per:colleagues                          130\n",
       "per:alternate_names                     125\n",
       "org:member_of                           109\n",
       "per:place_of_residence                   92\n",
       "org:alternate_names                      90\n",
       "per:product                              74\n",
       "per:spouse                               70\n",
       "per:children                             40\n",
       "per:parents                              38\n",
       "org:founded                              28\n",
       "per:siblings                             27\n",
       "per:date_of_death                        27\n",
       "per:other_family                         25\n",
       "org:political/religious_affiliation      17\n",
       "per:place_of_death                       17\n",
       "org:number_of_employees/members          16\n",
       "per:date_of_birth                        16\n",
       "per:place_of_birth                       14\n",
       "per:religion                             13\n",
       "per:schools_attended                     11\n",
       "org:dissolved                             9\n",
       "org:founded_by                            5\n",
       "Name: pred_label, dtype: int64"
      ]
     },
     "execution_count": 21,
     "metadata": {},
     "output_type": "execute_result"
    }
   ],
   "source": [
    "submission2 = pd.read_csv('../../../code/prediction/submission_1.csv')\n",
    "submission2.pred_label.value_counts()"
   ]
  },
  {
   "cell_type": "code",
   "execution_count": null,
   "id": "ef082dd2-7408-4e51-83ba-8ea31706b672",
   "metadata": {},
   "outputs": [],
   "source": [
    "from inference import do_inference\n",
    "do_inference(config)"
   ]
  }
 ],
 "metadata": {
  "kernelspec": {
   "display_name": "Python 3 (ipykernel)",
   "language": "python",
   "name": "python3"
  },
  "language_info": {
   "codemirror_mode": {
    "name": "ipython",
    "version": 3
   },
   "file_extension": ".py",
   "mimetype": "text/x-python",
   "name": "python",
   "nbconvert_exporter": "python",
   "pygments_lexer": "ipython3",
   "version": "3.8.5"
  }
 },
 "nbformat": 4,
 "nbformat_minor": 5
}
